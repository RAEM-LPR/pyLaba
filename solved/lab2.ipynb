{
 "cells": [
  {
   "cell_type": "markdown",
   "id": "5e2169fa",
   "metadata": {},
   "source": [
    "## Двумерные списки"
   ]
  },
  {
   "cell_type": "markdown",
   "id": "24411da1",
   "metadata": {},
   "source": [
    "\"Двумерный список\" — это обычный список, элементами которого являются списки. Такой термин удобен для нас, но для Python нет разницы между одномерными и двумерными списками. В частности, нечто такое вообще будет являться промежуточным: `[1, [2, 3, 4], 5]`\n",
    "\n",
    "Создадим список и рассмотрим обращение к элементам."
   ]
  },
  {
   "cell_type": "code",
   "execution_count": 1,
   "id": "bdba992b",
   "metadata": {},
   "outputs": [
    {
     "name": "stdout",
     "output_type": "stream",
     "text": [
      "[1, 2, 3] [4, 5, 6]\n",
      "[4, 5, 6]\n",
      "4\n",
      "6\n"
     ]
    }
   ],
   "source": [
    "a = [[1, 2, 3], [4, 5, 6]]\n",
    "print(*a)\n",
    "print(a[1])\n",
    "print(a[1][0])\n",
    "print(a[-1][-1])"
   ]
  },
  {
   "cell_type": "code",
   "execution_count": 2,
   "id": "29994282",
   "metadata": {},
   "outputs": [
    {
     "name": "stdout",
     "output_type": "stream",
     "text": [
      "1 2 3\n",
      "4 5 6\n"
     ]
    }
   ],
   "source": [
    "for i in range(len(a)):\n",
    "    print(*a[i])"
   ]
  },
  {
   "cell_type": "markdown",
   "id": "b88a9954",
   "metadata": {},
   "source": [
    "Для создания списка можем использовать генераторы:"
   ]
  },
  {
   "cell_type": "code",
   "execution_count": 9,
   "id": "4a2fb96f",
   "metadata": {},
   "outputs": [
    {
     "name": "stdout",
     "output_type": "stream",
     "text": [
      "1 2 3\n",
      "1 2 3\n",
      "1 2 3\n",
      "1 2 3\n",
      "[[1, 2, 3], [1, 2, 3], [1, 2, 3], [1, 2, 3]]\n"
     ]
    }
   ],
   "source": [
    "a = [[1, 2, 3] for i in range(4)]\n",
    "for i in range(len(a)):\n",
    "    print(*a[i])\n",
    "print(a)"
   ]
  },
  {
   "cell_type": "code",
   "execution_count": 10,
   "id": "4f287c52",
   "metadata": {},
   "outputs": [
    {
     "name": "stdout",
     "output_type": "stream",
     "text": [
      "0 1 2\n",
      "1 2 3\n",
      "2 3 4\n",
      "3 4 5\n"
     ]
    }
   ],
   "source": [
    "a = [[i, i+1, i+2] for i in range(4)]\n",
    "for i in range(len(a)):\n",
    "    print(*a[i])"
   ]
  },
  {
   "cell_type": "code",
   "execution_count": 11,
   "id": "f739ed7d",
   "metadata": {},
   "outputs": [
    {
     "name": "stdout",
     "output_type": "stream",
     "text": [
      "0 1 2\n",
      "1 2 3\n",
      "2 3 4\n",
      "3 4 5\n"
     ]
    }
   ],
   "source": [
    "for x in a:\n",
    "    print(*x)"
   ]
  },
  {
   "cell_type": "code",
   "execution_count": 12,
   "id": "9a48cf74",
   "metadata": {},
   "outputs": [
    {
     "name": "stdout",
     "output_type": "stream",
     "text": [
      "[[0, 1, 2], [1, 2, 3], [2, 3, 4], [3, 4, 5]]\n"
     ]
    }
   ],
   "source": [
    "print(a)"
   ]
  },
  {
   "cell_type": "markdown",
   "id": "11dad1dc",
   "metadata": {},
   "source": [
    "Вот пример создания списка списков при помощи генератора списка, *вложенного* в генератор списка:"
   ]
  },
  {
   "cell_type": "code",
   "execution_count": 14,
   "id": "dead9401",
   "metadata": {},
   "outputs": [
    {
     "name": "stdout",
     "output_type": "stream",
     "text": [
      "0 1 2 3 4\n",
      "0 1 2 3 4\n",
      "0 1 2 3 4\n",
      "0 1 2 3 4\n",
      "0 1 2 3 4\n"
     ]
    }
   ],
   "source": [
    "a = [[j for j in range(5)] for i in range(5)]\n",
    "for x in a:\n",
    "    print(*x)"
   ]
  },
  {
   "cell_type": "markdown",
   "id": "02e09442",
   "metadata": {},
   "source": [
    "**Упражнение:** создайте двумерный список. Заполните его следующим образом: значение элемента - номер его строки."
   ]
  },
  {
   "cell_type": "code",
   "execution_count": 22,
   "id": "18ede4a8",
   "metadata": {},
   "outputs": [
    {
     "name": "stdout",
     "output_type": "stream",
     "text": [
      "0 0 0 0\n",
      "1 1 1 1\n",
      "2 2 2 2\n",
      "3 3 3 3\n",
      "4 4 4 4\n",
      "5 5 5 5\n"
     ]
    }
   ],
   "source": [
    "a=[[j for i in range(4)]for j in range(6)]\n",
    "for x in a:\n",
    "    print(*x)"
   ]
  },
  {
   "cell_type": "markdown",
   "id": "16ce173d",
   "metadata": {},
   "source": [
    "**Пример.** Напечатаем таблицу умножения $10*10$:"
   ]
  },
  {
   "cell_type": "code",
   "execution_count": 20,
   "id": "9b197df4",
   "metadata": {},
   "outputs": [
    {
     "name": "stdout",
     "output_type": "stream",
     "text": [
      "1 2 3 4 5 6 7 8 9 10\n",
      "2 4 6 8 10 12 14 16 18 20\n",
      "3 6 9 12 15 18 21 24 27 30\n",
      "4 8 12 16 20 24 28 32 36 40\n",
      "5 10 15 20 25 30 35 40 45 50\n",
      "6 12 18 24 30 36 42 48 54 60\n",
      "7 14 21 28 35 42 49 56 63 70\n",
      "8 16 24 32 40 48 56 64 72 80\n",
      "9 18 27 36 45 54 63 72 81 90\n",
      "10 20 30 40 50 60 70 80 90 100\n"
     ]
    }
   ],
   "source": [
    "n, m = 10, 10\n",
    "a = [[i * j for j in range(1, m + 1)] for i in range(1, n + 1)]\n",
    "for x in a:\n",
    "    print(*x)"
   ]
  },
  {
   "cell_type": "markdown",
   "id": "7b1d9a77",
   "metadata": {},
   "source": [
    "## Тип bool. Оператор in. Еще раз про if."
   ]
  },
  {
   "cell_type": "markdown",
   "id": "e683d3d8",
   "metadata": {},
   "source": [
    "Еще один базовый тип данных — это `bool`. Переменные такого типа могут принимать только 2 значения: `True` и `False`."
   ]
  },
  {
   "cell_type": "code",
   "execution_count": 23,
   "id": "655cb743",
   "metadata": {},
   "outputs": [
    {
     "name": "stdout",
     "output_type": "stream",
     "text": [
      "True\n"
     ]
    }
   ],
   "source": [
    "print(1 > 0)"
   ]
  },
  {
   "cell_type": "code",
   "execution_count": 24,
   "id": "949f364b",
   "metadata": {},
   "outputs": [
    {
     "name": "stdout",
     "output_type": "stream",
     "text": [
      "True\n"
     ]
    }
   ],
   "source": [
    "a = 1 > 0\n",
    "print(a)"
   ]
  },
  {
   "cell_type": "code",
   "execution_count": 34,
   "id": "a9d556fc",
   "metadata": {},
   "outputs": [
    {
     "name": "stdout",
     "output_type": "stream",
     "text": [
      "False\n"
     ]
    }
   ],
   "source": [
    "b = 1 < 0\n",
    "print(b)"
   ]
  },
  {
   "cell_type": "code",
   "execution_count": 38,
   "id": "62ffde28",
   "metadata": {},
   "outputs": [
    {
     "name": "stdout",
     "output_type": "stream",
     "text": [
      "5\n",
      "0\n"
     ]
    }
   ],
   "source": [
    "print(a * 5)\n",
    "print(b * 3)"
   ]
  },
  {
   "cell_type": "markdown",
   "id": "d33283e9",
   "metadata": {},
   "source": [
    "Именно тип `bool` используется в каскадной конструкции `if elif ... else`:"
   ]
  },
  {
   "cell_type": "code",
   "execution_count": null,
   "id": "44b85637",
   "metadata": {},
   "outputs": [],
   "source": [
    "if 1 > 0:\n",
    "    print(2)"
   ]
  },
  {
   "cell_type": "markdown",
   "id": "ec682419",
   "metadata": {},
   "source": [
    "Существует приведение типов. Любое число, отличное от нуля с логической точки зрения — `True`, нуль воспринимается как `False`"
   ]
  },
  {
   "cell_type": "code",
   "execution_count": 39,
   "id": "e34f6f82",
   "metadata": {},
   "outputs": [
    {
     "name": "stdout",
     "output_type": "stream",
     "text": [
      "2\n"
     ]
    }
   ],
   "source": [
    "if 5:\n",
    "    print(2)\n",
    "else:\n",
    "    print(\"!\")"
   ]
  },
  {
   "cell_type": "code",
   "execution_count": 40,
   "id": "5ca698d5",
   "metadata": {},
   "outputs": [
    {
     "name": "stdout",
     "output_type": "stream",
     "text": [
      "!\n"
     ]
    }
   ],
   "source": [
    "if 0:\n",
    "    print(4)\n",
    "else:\n",
    "    print(\"!\")"
   ]
  },
  {
   "cell_type": "code",
   "execution_count": 41,
   "id": "c655994b",
   "metadata": {},
   "outputs": [
    {
     "name": "stdout",
     "output_type": "stream",
     "text": [
      "1\n",
      "2\n",
      "3\n",
      "4\n",
      "5\n"
     ]
    }
   ],
   "source": [
    "for i in [1, 2, 3, 4, 5]:\n",
    "    print(i)"
   ]
  },
  {
   "cell_type": "markdown",
   "id": "b92e2643",
   "metadata": {},
   "source": [
    "### Оператор `in`\n",
    "Лексема `in` может быть использована не только как часть синтаксической конструкции цикла `for`, но и как *оператор* для проверки принадлежности элемента итерируемому объекту:"
   ]
  },
  {
   "cell_type": "code",
   "execution_count": 42,
   "id": "27cce21b",
   "metadata": {},
   "outputs": [
    {
     "name": "stdout",
     "output_type": "stream",
     "text": [
      "True\n",
      "False\n"
     ]
    }
   ],
   "source": [
    "print(4 in [1, 2, 3, 4, 5])\n",
    "print(6 in [1, 2, 3, 4, 5])"
   ]
  },
  {
   "cell_type": "code",
   "execution_count": 43,
   "id": "6c1545be",
   "metadata": {},
   "outputs": [
    {
     "name": "stdout",
     "output_type": "stream",
     "text": [
      "True\n",
      "False\n"
     ]
    }
   ],
   "source": [
    "print(4 in range(1, 6))\n",
    "print(6 in range(1, 6))"
   ]
  },
  {
   "cell_type": "code",
   "execution_count": 44,
   "id": "256067bf",
   "metadata": {},
   "outputs": [
    {
     "name": "stdout",
     "output_type": "stream",
     "text": [
      "True\n",
      "False\n"
     ]
    }
   ],
   "source": [
    "print(\"b\" in \"abc\")\n",
    "print(\"B\" in \"abc\")"
   ]
  },
  {
   "cell_type": "markdown",
   "id": "5fb27cad",
   "metadata": {},
   "source": [
    "## Функции, возвращающие значение\n",
    "Функции — это вспомогательные алгоритмы. "
   ]
  },
  {
   "cell_type": "markdown",
   "id": "57f88b90",
   "metadata": {},
   "source": [
    "###  Логическое значение как результат работы функции\n",
    "Ниже описаны три аналогичных функции. Прочитайте их тела и объясните почему они работают одинаково.\n",
    "Какая из них вам больше нравится?"
   ]
  },
  {
   "cell_type": "code",
   "execution_count": 45,
   "id": "ef4f059c",
   "metadata": {},
   "outputs": [
    {
     "name": "stdout",
     "output_type": "stream",
     "text": [
      "True\n",
      "False\n"
     ]
    }
   ],
   "source": [
    "def is_positive(x):\n",
    "    if x > 0:\n",
    "        return True\n",
    "    else:\n",
    "        return False\n",
    "    \n",
    "print(is_positive(5))\n",
    "print(is_positive(-5))"
   ]
  },
  {
   "cell_type": "code",
   "execution_count": 46,
   "id": "dcdef58f",
   "metadata": {},
   "outputs": [
    {
     "name": "stdout",
     "output_type": "stream",
     "text": [
      "True\n",
      "False\n"
     ]
    }
   ],
   "source": [
    "def is_positive(x):\n",
    "    if x > 0:\n",
    "        return True\n",
    "    return False\n",
    "\n",
    "print(is_positive(5))\n",
    "print(is_positive(-5))"
   ]
  },
  {
   "cell_type": "code",
   "execution_count": 53,
   "id": "b0431287",
   "metadata": {},
   "outputs": [
    {
     "name": "stdout",
     "output_type": "stream",
     "text": [
      "True\n",
      "False\n"
     ]
    }
   ],
   "source": [
    "#'''\n",
    "def is_positive(x):\n",
    "    return x > 0\n",
    "\n",
    "print(is_positive(5))\n",
    "print(is_positive(-5))"
   ]
  },
  {
   "cell_type": "markdown",
   "id": "2c47bf96",
   "metadata": {},
   "source": [
    "## Функции как аргументы функций map и filter\n",
    "Для поэлементной обработки любого итерируемого объекта можно использовать функции `map` и `filter`:"
   ]
  },
  {
   "cell_type": "code",
   "execution_count": 54,
   "id": "f8670a5b",
   "metadata": {},
   "outputs": [
    {
     "name": "stdout",
     "output_type": "stream",
     "text": [
      "['1', '2', '-3', '4', '-5']\n",
      "[1, 2, -3, 4, -5]\n"
     ]
    }
   ],
   "source": [
    "a = \"1 2 -3 4 -5\".split()\n",
    "print(a)\n",
    "a = list(map(int, a))\n",
    "print(a)"
   ]
  },
  {
   "cell_type": "code",
   "execution_count": 60,
   "id": "84d9f84c",
   "metadata": {},
   "outputs": [
    {
     "name": "stdout",
     "output_type": "stream",
     "text": [
      "['1', '2', '-3', '4', '-5']\n",
      "[1.0, 2.0, -3.0, 4.0, -5.0]\n",
      "[1.4, 2.4, -2.6, 4.4, -4.6]\n",
      "[1, 2, -2, 4, -4]\n"
     ]
    }
   ],
   "source": [
    "#def frfr(r):\n",
    "#    return r+0.4\n",
    "a = \"1 2 -3 4 -5\".split()\n",
    "print(a)\n",
    "a = list(map(float, a))\n",
    "print(a)\n",
    "#a = list(map(frfr, a))\n",
    "#print(a)\n",
    "a = list(map(int, a))\n",
    "print(a)"
   ]
  },
  {
   "cell_type": "code",
   "execution_count": 61,
   "id": "1bcae2a6",
   "metadata": {},
   "outputs": [
    {
     "name": "stdout",
     "output_type": "stream",
     "text": [
      "['1', '2', '-3', '4', '-5', '0']\n",
      "[True, True, True, True, True, True]\n"
     ]
    }
   ],
   "source": [
    "a = \"1 2 -3 4 -5 0\".split()\n",
    "print(a)\n",
    "a = list(map(bool, a))\n",
    "print(a)"
   ]
  },
  {
   "cell_type": "code",
   "execution_count": 62,
   "id": "13a826c6",
   "metadata": {},
   "outputs": [
    {
     "name": "stdout",
     "output_type": "stream",
     "text": [
      "['1', '2', '-3', '4', '-5', '0']\n",
      "[1, 2, -3, 4, -5, 0]\n",
      "[True, True, True, True, True, False]\n"
     ]
    }
   ],
   "source": [
    "a = \"1 2 -3 4 -5 0\".split()\n",
    "print(a)\n",
    "a = list(map(int, a))\n",
    "print(a)\n",
    "a = list(map(bool, a))\n",
    "print(a)"
   ]
  },
  {
   "cell_type": "markdown",
   "id": "8c28c10b",
   "metadata": {},
   "source": [
    "Как параметр для `map` можно передавать не только стандартные функции, но и свои собственные:"
   ]
  },
  {
   "cell_type": "code",
   "execution_count": 63,
   "id": "80527cdc",
   "metadata": {},
   "outputs": [
    {
     "name": "stdout",
     "output_type": "stream",
     "text": [
      "['1', '2', '-3', '4', '-5']\n",
      "['11', '22', '-3-3', '44', '-5-5']\n"
     ]
    }
   ],
   "source": [
    "def my_function(x):\n",
    "    return x * 2\n",
    "\n",
    "a = \"1 2 -3 4 -5\".split()\n",
    "print(a)\n",
    "a = list(map(my_function, a))\n",
    "print(a)"
   ]
  },
  {
   "cell_type": "markdown",
   "id": "7d192c9d",
   "metadata": {},
   "source": [
    "Такие \"одноразовые функции\" загрязняют пространство имён, поэтому есть возможность создать **безымянную функцию** при помощи слова `lambda`. Вычисляясь, лямбда-выражение \"изготавливает\" новую функцию и передаёт её как объект туда, где она нужна — в функцию `map`. Затем она сразу забывается."
   ]
  },
  {
   "cell_type": "code",
   "execution_count": 64,
   "id": "ce922e96",
   "metadata": {},
   "outputs": [
    {
     "name": "stdout",
     "output_type": "stream",
     "text": [
      "['1', '2', '-3', '4', '-5']\n",
      "['11', '22', '-3-3', '44', '-5-5']\n"
     ]
    }
   ],
   "source": [
    "a = \"1 2 -3 4 -5\".split()\n",
    "print(a)\n",
    "a = list(map(lambda x: x * 2, a))\n",
    "print(a)"
   ]
  },
  {
   "cell_type": "code",
   "execution_count": 65,
   "id": "959c6572",
   "metadata": {},
   "outputs": [
    {
     "name": "stdout",
     "output_type": "stream",
     "text": [
      "[True, True, False, True, False]\n",
      "[1, 2, 4]\n"
     ]
    }
   ],
   "source": [
    "a = [1, 2, -3, 4, -5]\n",
    "b = list(map(is_positive, a))\n",
    "c = list(filter(is_positive, a))\n",
    "print(b)\n",
    "print(c)"
   ]
  },
  {
   "cell_type": "code",
   "execution_count": 66,
   "id": "fd2a87e6",
   "metadata": {},
   "outputs": [
    {
     "name": "stdout",
     "output_type": "stream",
     "text": [
      "[True, True, False, True, False]\n",
      "[1, 2, 4]\n"
     ]
    }
   ],
   "source": [
    "a = [1, 2, -3, 4, -5]\n",
    "b = list(map(lambda x: x > 0, a))\n",
    "c = list(filter(lambda x: x > 0, a))\n",
    "print(b)\n",
    "print(c)"
   ]
  },
  {
   "cell_type": "markdown",
   "id": "7313cf30",
   "metadata": {},
   "source": [
    "Можем делать \"сложную\" лямбда-функцию:"
   ]
  },
  {
   "cell_type": "code",
   "execution_count": null,
   "id": "bf6a53b0",
   "metadata": {},
   "outputs": [],
   "source": [
    "a = \"1 2 -3 4 -5\".split()\n",
    "print(a)\n",
    "a = list(map(lambda x: abs(int(x)), a))\n",
    "print(a)"
   ]
  },
  {
   "cell_type": "markdown",
   "id": "cced2f0d",
   "metadata": {},
   "source": [
    "**Упражнение:** считайте список с клавиатуры. С помощью функции `filter` удалите из него те элементы, которые *не* являются квадратами однозначных натуральных чисел."
   ]
  },
  {
   "cell_type": "code",
   "execution_count": 75,
   "id": "470b80f3",
   "metadata": {},
   "outputs": [
    {
     "name": "stdout",
     "output_type": "stream",
     "text": [
      "12 16 100 9 \n",
      "16 9\n"
     ]
    }
   ],
   "source": [
    "\"\"\"def isSqr(t):\n",
    "    q=[i**2 for i in range(1,10)]\n",
    "    return t in q\"\"\"\n",
    "a=input().split()\n",
    "a=list(map(int,a))\n",
    "a=list(filter(lambda t: t in [i**2 for i in range(1,10)] ,a))\n",
    "print(*a)"
   ]
  },
  {
   "cell_type": "markdown",
   "id": "07f6cc31",
   "metadata": {},
   "source": [
    "Можно использовать `map` для обработки считанного списка. Считываем с помощью функции `input()` объект типа `str`, к нему применяем метод `split()` и получаем `list`, ко всем его элементам функция `map` применяет функцию `int`, а конструктор списка `list` сохраняет результат в список:"
   ]
  },
  {
   "cell_type": "code",
   "execution_count": 76,
   "id": "5880334d",
   "metadata": {},
   "outputs": [
    {
     "name": "stdout",
     "output_type": "stream",
     "text": [
      "54 54  45\n",
      "[54, 54, 45]\n"
     ]
    }
   ],
   "source": [
    "a = list(map(int, input().split()))\n",
    "print(a)"
   ]
  },
  {
   "cell_type": "code",
   "execution_count": 79,
   "id": "513e32ed",
   "metadata": {
    "scrolled": false
   },
   "outputs": [
    {
     "name": "stdout",
     "output_type": "stream",
     "text": [
      "1 2 3 4 5\n",
      "1 2 3 4 5\n",
      "5 4 3 21 22  1\n",
      "2 3\n",
      "1 3\n",
      "[[1, 2, 3, 4, 5], [1, 2, 3, 4, 5], [5, 4, 3, 21, 22, 1], [2, 3], [1, 3]]\n"
     ]
    }
   ],
   "source": [
    "a = [list(map(int, input().split())) for i in range(5)]\n",
    "print(a)"
   ]
  },
  {
   "cell_type": "markdown",
   "id": "c4904cbb",
   "metadata": {},
   "source": [
    "for x in a:\n",
    "    print(*x)"
   ]
  },
  {
   "cell_type": "markdown",
   "id": "8be0994e",
   "metadata": {},
   "source": [
    "Пример: удалить из матрицы строки с отрицательной суммой"
   ]
  },
  {
   "cell_type": "code",
   "execution_count": 86,
   "id": "4b7291f3",
   "metadata": {},
   "outputs": [
    {
     "name": "stdout",
     "output_type": "stream",
     "text": [
      "5 -2 3\n",
      "-1 2 -3\n",
      "-8 4 5\n"
     ]
    }
   ],
   "source": [
    "a = [[5, -2, 3], [-1, 2, -3], [-8, 4, 5]]\n",
    "for x in a:\n",
    "    print(*x)"
   ]
  },
  {
   "cell_type": "code",
   "execution_count": 88,
   "id": "107988bd",
   "metadata": {},
   "outputs": [
    {
     "name": "stdout",
     "output_type": "stream",
     "text": [
      "[[5, -2, 3], [-8, 4, 5]]\n"
     ]
    }
   ],
   "source": [
    "a = list(filter(lambda x: sum(x) >= 0, a))\n",
    "print(a)"
   ]
  },
  {
   "cell_type": "code",
   "execution_count": 89,
   "id": "af8eb227",
   "metadata": {},
   "outputs": [
    {
     "name": "stdout",
     "output_type": "stream",
     "text": [
      "6 1\n"
     ]
    }
   ],
   "source": [
    "print(sum(a[0]), sum(a[1]))"
   ]
  },
  {
   "cell_type": "markdown",
   "id": "9687cb48",
   "metadata": {},
   "source": [
    "И еще примеры:"
   ]
  },
  {
   "cell_type": "code",
   "execution_count": 90,
   "id": "a25dae6f",
   "metadata": {},
   "outputs": [
    {
     "name": "stdout",
     "output_type": "stream",
     "text": [
      "[1, 4, 9, 16, 25]\n"
     ]
    }
   ],
   "source": [
    "a = [1, 2, 3, 4, 5]\n",
    "print(list(map(lambda x: x ** 2, a)))"
   ]
  },
  {
   "cell_type": "code",
   "execution_count": 91,
   "id": "7615424a",
   "metadata": {},
   "outputs": [
    {
     "name": "stdout",
     "output_type": "stream",
     "text": [
      "[1, 2, 0, 4, 0]\n"
     ]
    }
   ],
   "source": [
    "a = [1, 2, -3, 4, -5]\n",
    "print(list(map(lambda x: x if x >= 0 else 0, a)))"
   ]
  },
  {
   "cell_type": "markdown",
   "id": "3f3d2d44",
   "metadata": {},
   "source": [
    "## Цикл while. Целочисленная арифметика"
   ]
  },
  {
   "cell_type": "markdown",
   "id": "7feb1357",
   "metadata": {},
   "source": [
    "Кроме цикла `for` в Python используется цикл `while`. Например, он удобен, если нужно указать условие выхода через условие типа `bool`"
   ]
  },
  {
   "cell_type": "code",
   "execution_count": 92,
   "id": "123b28fb",
   "metadata": {},
   "outputs": [
    {
     "name": "stdout",
     "output_type": "stream",
     "text": [
      "0\n",
      "1\n",
      "4\n",
      "9\n",
      "16\n"
     ]
    }
   ],
   "source": [
    "i = 0\n",
    "while i < 5:\n",
    "    print(i ** 2)\n",
    "    i += 1"
   ]
  },
  {
   "cell_type": "code",
   "execution_count": null,
   "id": "5ee7473f",
   "metadata": {},
   "outputs": [],
   "source": [
    "for i in range(5):\n",
    "    print(i ** 2)"
   ]
  },
  {
   "cell_type": "markdown",
   "id": "3aa86ea4",
   "metadata": {},
   "source": [
    "Еще две арифметические операции, которые потребуются в примере ниже: деление с остатком и целочисленное деление."
   ]
  },
  {
   "cell_type": "code",
   "execution_count": 93,
   "id": "69f54375",
   "metadata": {},
   "outputs": [
    {
     "name": "stdout",
     "output_type": "stream",
     "text": [
      "1\n",
      "5\n"
     ]
    }
   ],
   "source": [
    "print(16 % 3)\n",
    "print(16 // 3)"
   ]
  },
  {
   "cell_type": "markdown",
   "id": "85197c8d",
   "metadata": {},
   "source": [
    "С помощью цикла `while` удобно обращаться к отдельным цифрам числа. Например, можно сохранить их в массив:"
   ]
  },
  {
   "cell_type": "code",
   "execution_count": null,
   "id": "6488a45d",
   "metadata": {},
   "outputs": [],
   "source": [
    "a = []\n",
    "n = 2345\n",
    "while n > 0:\n",
    "    a.append(n % 10)\n",
    "    n = n // 10\n",
    "print(a)"
   ]
  },
  {
   "cell_type": "markdown",
   "id": "73cfba6a",
   "metadata": {},
   "source": [
    "**Упражнение:** напишите функцию, которая вычисляет сумму цифр числа, считайте число с клавиатуры и примените эту функцию."
   ]
  },
  {
   "cell_type": "code",
   "execution_count": 98,
   "id": "91628376",
   "metadata": {},
   "outputs": [
    {
     "name": "stdout",
     "output_type": "stream",
     "text": [
      "123\n",
      "6\n"
     ]
    }
   ],
   "source": [
    "def sn(q):\n",
    "    a=[]\n",
    "    while q>0:\n",
    "        a.append(q%10)\n",
    "        q//=10\n",
    "    return sum(a)\n",
    "print(sn(int(input())))"
   ]
  },
  {
   "cell_type": "markdown",
   "id": "7c9dc0fd",
   "metadata": {},
   "source": [
    "Можно запустить \"бесконечный цикл\" (он ничем не отличается от обычного). Внутри циклов можно использовать конструкции `break` и `continue`:"
   ]
  },
  {
   "cell_type": "code",
   "execution_count": 97,
   "id": "8794783c",
   "metadata": {},
   "outputs": [
    {
     "ename": "KeyboardInterrupt",
     "evalue": "Interrupted by user",
     "output_type": "error",
     "traceback": [
      "\u001b[0;31m---------------------------------------------------------------------------\u001b[0m",
      "\u001b[0;31mKeyboardInterrupt\u001b[0m                         Traceback (most recent call last)",
      "\u001b[0;32m/tmp/ipykernel_3510/3075097021.py\u001b[0m in \u001b[0;36m<module>\u001b[0;34m\u001b[0m\n\u001b[1;32m      1\u001b[0m \u001b[0;32mwhile\u001b[0m \u001b[0;32mTrue\u001b[0m\u001b[0;34m:\u001b[0m\u001b[0;34m\u001b[0m\u001b[0;34m\u001b[0m\u001b[0m\n\u001b[0;32m----> 2\u001b[0;31m     \u001b[0ma\u001b[0m \u001b[0;34m=\u001b[0m \u001b[0mint\u001b[0m\u001b[0;34m(\u001b[0m\u001b[0minput\u001b[0m\u001b[0;34m(\u001b[0m\u001b[0;34m)\u001b[0m\u001b[0;34m)\u001b[0m\u001b[0;34m\u001b[0m\u001b[0;34m\u001b[0m\u001b[0m\n\u001b[0m\u001b[1;32m      3\u001b[0m     \u001b[0mprint\u001b[0m\u001b[0;34m(\u001b[0m\u001b[0ma\u001b[0m\u001b[0;34m)\u001b[0m\u001b[0;34m\u001b[0m\u001b[0;34m\u001b[0m\u001b[0m\n",
      "\u001b[0;32m/opt/rh/rh-python38/root/usr/local/lib/python3.8/site-packages/ipykernel/kernelbase.py\u001b[0m in \u001b[0;36mraw_input\u001b[0;34m(self, prompt)\u001b[0m\n\u001b[1;32m   1005\u001b[0m                 \u001b[0;34m\"raw_input was called, but this frontend does not support input requests.\"\u001b[0m\u001b[0;34m\u001b[0m\u001b[0;34m\u001b[0m\u001b[0m\n\u001b[1;32m   1006\u001b[0m             )\n\u001b[0;32m-> 1007\u001b[0;31m         return self._input_request(\n\u001b[0m\u001b[1;32m   1008\u001b[0m             \u001b[0mstr\u001b[0m\u001b[0;34m(\u001b[0m\u001b[0mprompt\u001b[0m\u001b[0;34m)\u001b[0m\u001b[0;34m,\u001b[0m\u001b[0;34m\u001b[0m\u001b[0;34m\u001b[0m\u001b[0m\n\u001b[1;32m   1009\u001b[0m             \u001b[0mself\u001b[0m\u001b[0;34m.\u001b[0m\u001b[0m_parent_ident\u001b[0m\u001b[0;34m[\u001b[0m\u001b[0;34m\"shell\"\u001b[0m\u001b[0;34m]\u001b[0m\u001b[0;34m,\u001b[0m\u001b[0;34m\u001b[0m\u001b[0;34m\u001b[0m\u001b[0m\n",
      "\u001b[0;32m/opt/rh/rh-python38/root/usr/local/lib/python3.8/site-packages/ipykernel/kernelbase.py\u001b[0m in \u001b[0;36m_input_request\u001b[0;34m(self, prompt, ident, parent, password)\u001b[0m\n\u001b[1;32m   1050\u001b[0m             \u001b[0;32mexcept\u001b[0m \u001b[0mKeyboardInterrupt\u001b[0m\u001b[0;34m:\u001b[0m\u001b[0;34m\u001b[0m\u001b[0;34m\u001b[0m\u001b[0m\n\u001b[1;32m   1051\u001b[0m                 \u001b[0;31m# re-raise KeyboardInterrupt, to truncate traceback\u001b[0m\u001b[0;34m\u001b[0m\u001b[0;34m\u001b[0m\u001b[0;34m\u001b[0m\u001b[0m\n\u001b[0;32m-> 1052\u001b[0;31m                 \u001b[0;32mraise\u001b[0m \u001b[0mKeyboardInterrupt\u001b[0m\u001b[0;34m(\u001b[0m\u001b[0;34m\"Interrupted by user\"\u001b[0m\u001b[0;34m)\u001b[0m \u001b[0;32mfrom\u001b[0m \u001b[0;32mNone\u001b[0m\u001b[0;34m\u001b[0m\u001b[0;34m\u001b[0m\u001b[0m\n\u001b[0m\u001b[1;32m   1053\u001b[0m             \u001b[0;32mexcept\u001b[0m \u001b[0mException\u001b[0m\u001b[0;34m:\u001b[0m\u001b[0;34m\u001b[0m\u001b[0;34m\u001b[0m\u001b[0m\n\u001b[1;32m   1054\u001b[0m                 \u001b[0mself\u001b[0m\u001b[0;34m.\u001b[0m\u001b[0mlog\u001b[0m\u001b[0;34m.\u001b[0m\u001b[0mwarning\u001b[0m\u001b[0;34m(\u001b[0m\u001b[0;34m\"Invalid Message:\"\u001b[0m\u001b[0;34m,\u001b[0m \u001b[0mexc_info\u001b[0m\u001b[0;34m=\u001b[0m\u001b[0;32mTrue\u001b[0m\u001b[0;34m)\u001b[0m\u001b[0;34m\u001b[0m\u001b[0;34m\u001b[0m\u001b[0m\n",
      "\u001b[0;31mKeyboardInterrupt\u001b[0m: Interrupted by user"
     ]
    }
   ],
   "source": [
    "while True:\n",
    "    a = int(input())\n",
    "    print(a)"
   ]
  },
  {
   "cell_type": "markdown",
   "id": "254a4a65",
   "metadata": {},
   "source": [
    "Для прерывания работы ячейки можно нажать на квадратик."
   ]
  },
  {
   "cell_type": "code",
   "execution_count": 99,
   "id": "46735686",
   "metadata": {},
   "outputs": [
    {
     "name": "stdout",
     "output_type": "stream",
     "text": [
      "4\n",
      "4\n",
      "3\n",
      "3\n",
      "0\n"
     ]
    }
   ],
   "source": [
    "while True:\n",
    "    a = int(input())\n",
    "    if a > 0:\n",
    "        print(a)\n",
    "    else:\n",
    "        break"
   ]
  },
  {
   "cell_type": "code",
   "execution_count": 100,
   "id": "e41787fb",
   "metadata": {},
   "outputs": [
    {
     "name": "stdout",
     "output_type": "stream",
     "text": [
      "1\n",
      "32\n",
      "0\n"
     ]
    }
   ],
   "source": [
    "while True:\n",
    "    a = int(input())\n",
    "    if a > 0:\n",
    "        continue\n",
    "    else:\n",
    "        break"
   ]
  },
  {
   "cell_type": "markdown",
   "id": "5da20e2f",
   "metadata": {},
   "source": [
    "## Работа с файлами"
   ]
  },
  {
   "cell_type": "markdown",
   "id": "84e27eb5",
   "metadata": {},
   "source": [
    "Пример: создайте файл input.txt, скопируйте туда таблицу с числами ниже:\n",
    "\n",
    "    1 2 3\n",
    "    4 5 6"
   ]
  },
  {
   "cell_type": "code",
   "execution_count": 102,
   "id": "1ade4721",
   "metadata": {},
   "outputs": [
    {
     "name": "stdout",
     "output_type": "stream",
     "text": [
      "1 2 3\n",
      "4 5 6\n",
      "\n"
     ]
    }
   ],
   "source": [
    "with open(\"input.txt\", \"r\") as f:\n",
    "    print(f.read())"
   ]
  },
  {
   "cell_type": "code",
   "execution_count": 103,
   "id": "17a0572d",
   "metadata": {},
   "outputs": [
    {
     "name": "stdout",
     "output_type": "stream",
     "text": [
      "1 2 3\n",
      "4 5 6\n",
      "\n"
     ]
    }
   ],
   "source": [
    "with open(\"input.txt\", \"r\") as f:\n",
    "    s = f.read()\n",
    "    print(s)\n",
    "    "
   ]
  },
  {
   "cell_type": "code",
   "execution_count": 109,
   "id": "7cb5784c",
   "metadata": {},
   "outputs": [
    {
     "data": {
      "text/plain": [
       "('1 2 3\\n4 5 6\\n', str)"
      ]
     },
     "execution_count": 109,
     "metadata": {},
     "output_type": "execute_result"
    }
   ],
   "source": [
    "s, type(s)"
   ]
  },
  {
   "cell_type": "markdown",
   "id": "7e855b29",
   "metadata": {},
   "source": [
    "Так выглядит внутреннее представление строки `s`. Когда мы вызываем функцию `print` символ переноса строки `\\n` переводит курсор на новую строку:"
   ]
  },
  {
   "cell_type": "code",
   "execution_count": 105,
   "id": "4a95cf02",
   "metadata": {},
   "outputs": [
    {
     "name": "stdout",
     "output_type": "stream",
     "text": [
      "1\n",
      "2\n"
     ]
    }
   ],
   "source": [
    "print(\"1\\n2\")"
   ]
  },
  {
   "cell_type": "code",
   "execution_count": 106,
   "id": "248a5e4f",
   "metadata": {},
   "outputs": [
    {
     "name": "stdout",
     "output_type": "stream",
     "text": [
      "['1 2 3\\n', '4 5 6\\n']\n"
     ]
    }
   ],
   "source": [
    "with open(\"input.txt\", \"r\") as f:\n",
    "    a = f.readlines()\n",
    "print(a)"
   ]
  },
  {
   "cell_type": "markdown",
   "id": "45273c92",
   "metadata": {},
   "source": [
    "Напомним, что `rstrip()` удаляет пробельные элементы из конца строки, в частности, символ переноса строки"
   ]
  },
  {
   "cell_type": "code",
   "execution_count": 113,
   "id": "5fcc6108",
   "metadata": {},
   "outputs": [
    {
     "name": "stdout",
     "output_type": "stream",
     "text": [
      "['1 2 3', '4 5 6']\n"
     ]
    }
   ],
   "source": [
    "with open(\"input.txt\", \"r\") as f:\n",
    "    a = f.readlines()\n",
    "    a = list(map(lambda x: x.rstrip(), a))\n",
    "print(a)"
   ]
  },
  {
   "cell_type": "code",
   "execution_count": 111,
   "id": "ee6bbeb0",
   "metadata": {},
   "outputs": [
    {
     "name": "stdout",
     "output_type": "stream",
     "text": [
      "[['1', '2', '3'], ['4', '5', '6']]\n"
     ]
    }
   ],
   "source": [
    "with open(\"input.txt\", \"r\") as f:\n",
    "    a = f.readlines()\n",
    "    a = list(map(lambda x: x.rstrip().split(), a))\n",
    "print(a)"
   ]
  },
  {
   "cell_type": "code",
   "execution_count": 114,
   "id": "c2625d49",
   "metadata": {},
   "outputs": [
    {
     "name": "stdout",
     "output_type": "stream",
     "text": [
      "[[1, 2, 3], [4, 5, 6]]\n"
     ]
    }
   ],
   "source": [
    "with open(\"input.txt\", \"r\") as f:\n",
    "    a = f.readlines()\n",
    "    a = list(map(lambda x: [int(y) for y in x.rstrip().split()], a))\n",
    "print(a)"
   ]
  },
  {
   "cell_type": "markdown",
   "id": "1c2446d3",
   "metadata": {},
   "source": [
    "Или проще:"
   ]
  },
  {
   "cell_type": "code",
   "execution_count": 118,
   "id": "dba4f550",
   "metadata": {},
   "outputs": [
    {
     "name": "stdout",
     "output_type": "stream",
     "text": [
      "[[1, 2, 3], [4, 5, 6]]\n"
     ]
    }
   ],
   "source": [
    "with open(\"input.txt\", \"r\") as f:\n",
    "    a = f.readlines()\n",
    "    a = list(map(lambda x: x.rstrip().split(), a))\n",
    "    for i in range(len(a)):\n",
    "        for j in range(len(a[i])):\n",
    "            a[i][j] = int(a[i][j])\n",
    "print(a)"
   ]
  },
  {
   "cell_type": "markdown",
   "id": "50cd4323",
   "metadata": {},
   "source": [
    "**Пример:** в созданный файл запишем вместо чисел, которые там были, новые числа, равные квадратам исходных"
   ]
  },
  {
   "cell_type": "code",
   "execution_count": 119,
   "id": "b38bd1b9",
   "metadata": {},
   "outputs": [
    {
     "name": "stdout",
     "output_type": "stream",
     "text": [
      "[[1, 4, 9], [16, 25, 36]]\n"
     ]
    }
   ],
   "source": [
    "b = [[a[i][j] ** 2 for j in range(len(a[i]))] for i in range(len(a))]\n",
    "print(b)"
   ]
  },
  {
   "cell_type": "code",
   "execution_count": 121,
   "id": "6ca144a2",
   "metadata": {},
   "outputs": [
    {
     "ename": "TypeError",
     "evalue": "sequence item 0: expected str instance, int found",
     "output_type": "error",
     "traceback": [
      "\u001b[0;31m---------------------------------------------------------------------------\u001b[0m",
      "\u001b[0;31mTypeError\u001b[0m                                 Traceback (most recent call last)",
      "\u001b[0;32m/tmp/ipykernel_3510/3868353225.py\u001b[0m in \u001b[0;36m<module>\u001b[0;34m\u001b[0m\n\u001b[1;32m      1\u001b[0m \u001b[0;32mwith\u001b[0m \u001b[0mopen\u001b[0m\u001b[0;34m(\u001b[0m\u001b[0;34m\"output.txt\"\u001b[0m\u001b[0;34m,\u001b[0m \u001b[0;34m\"w\"\u001b[0m\u001b[0;34m)\u001b[0m \u001b[0;32mas\u001b[0m \u001b[0mf\u001b[0m\u001b[0;34m:\u001b[0m\u001b[0;34m\u001b[0m\u001b[0;34m\u001b[0m\u001b[0m\n\u001b[0;32m----> 2\u001b[0;31m     \u001b[0mf\u001b[0m\u001b[0;34m.\u001b[0m\u001b[0mwritelines\u001b[0m\u001b[0;34m(\u001b[0m\u001b[0;34m[\u001b[0m\u001b[0;34m\" \"\u001b[0m\u001b[0;34m.\u001b[0m\u001b[0mjoin\u001b[0m\u001b[0;34m(\u001b[0m\u001b[0mx\u001b[0m\u001b[0;34m)\u001b[0m \u001b[0;32mfor\u001b[0m \u001b[0mx\u001b[0m \u001b[0;32min\u001b[0m \u001b[0mb\u001b[0m\u001b[0;34m]\u001b[0m\u001b[0;34m)\u001b[0m\u001b[0;34m\u001b[0m\u001b[0;34m\u001b[0m\u001b[0m\n\u001b[0m",
      "\u001b[0;32m/tmp/ipykernel_3510/3868353225.py\u001b[0m in \u001b[0;36m<listcomp>\u001b[0;34m(.0)\u001b[0m\n\u001b[1;32m      1\u001b[0m \u001b[0;32mwith\u001b[0m \u001b[0mopen\u001b[0m\u001b[0;34m(\u001b[0m\u001b[0;34m\"output.txt\"\u001b[0m\u001b[0;34m,\u001b[0m \u001b[0;34m\"w\"\u001b[0m\u001b[0;34m)\u001b[0m \u001b[0;32mas\u001b[0m \u001b[0mf\u001b[0m\u001b[0;34m:\u001b[0m\u001b[0;34m\u001b[0m\u001b[0;34m\u001b[0m\u001b[0m\n\u001b[0;32m----> 2\u001b[0;31m     \u001b[0mf\u001b[0m\u001b[0;34m.\u001b[0m\u001b[0mwritelines\u001b[0m\u001b[0;34m(\u001b[0m\u001b[0;34m[\u001b[0m\u001b[0;34m\" \"\u001b[0m\u001b[0;34m.\u001b[0m\u001b[0mjoin\u001b[0m\u001b[0;34m(\u001b[0m\u001b[0mx\u001b[0m\u001b[0;34m)\u001b[0m \u001b[0;32mfor\u001b[0m \u001b[0mx\u001b[0m \u001b[0;32min\u001b[0m \u001b[0mb\u001b[0m\u001b[0;34m]\u001b[0m\u001b[0;34m)\u001b[0m\u001b[0;34m\u001b[0m\u001b[0;34m\u001b[0m\u001b[0m\n\u001b[0m",
      "\u001b[0;31mTypeError\u001b[0m: sequence item 0: expected str instance, int found"
     ]
    }
   ],
   "source": [
    "with open(\"output.txt\", \"w\") as f:\n",
    "    f.writelines([\" \".join(x) for x in b])"
   ]
  },
  {
   "cell_type": "code",
   "execution_count": 122,
   "id": "82b7feff",
   "metadata": {},
   "outputs": [],
   "source": [
    "b = [[str(x) for x in b[i]] for i in range(len(b))]\n",
    "with open(\"output.txt\", \"w\") as f:\n",
    "    f.writelines([\" \".join(x) for x in b])"
   ]
  },
  {
   "cell_type": "markdown",
   "id": "d7798cae",
   "metadata": {},
   "source": [
    "Посмотрите, что записалось в файл. Не совсем то, что нужно, не хватает символов переноса строки"
   ]
  },
  {
   "cell_type": "code",
   "execution_count": 123,
   "id": "a95188de",
   "metadata": {},
   "outputs": [],
   "source": [
    "b = [[str(x) for x in b[i]] for i in range(len(b))]\n",
    "with open(\"output.txt\", \"w\") as f:\n",
    "    f.writelines([\" \".join(x) + \"\\n\" for x in b])"
   ]
  },
  {
   "cell_type": "markdown",
   "id": "648228d0",
   "metadata": {},
   "source": [
    "Файлы можно открывать не только на запись, но и на дозапись. Обратите внимание, что в предыдущей ячейке предыдущее сожержимое файла стерлось запуском `open`, для этого используем флажок `a` вместо `w`"
   ]
  },
  {
   "cell_type": "code",
   "execution_count": 124,
   "id": "acadb95e",
   "metadata": {},
   "outputs": [],
   "source": [
    "b = [[str(x) for x in b[i]] for i in range(len(b))]\n",
    "with open(\"output.txt\", \"a\") as f:\n",
    "    f.write(\"done!\")"
   ]
  },
  {
   "cell_type": "markdown",
   "id": "f9b894ad",
   "metadata": {},
   "source": [
    "## Сортировка списков"
   ]
  },
  {
   "cell_type": "markdown",
   "id": "735cd12e",
   "metadata": {},
   "source": [
    "Не углубляясь в алгоритмы, разберем, как можно сортировать списки в Python. Для этого есть функции `sort` и `sorted`. Первая изменяет сортируемый объект, вторая создает новый, а исходный остается:"
   ]
  },
  {
   "cell_type": "code",
   "execution_count": 125,
   "id": "93cd612d",
   "metadata": {},
   "outputs": [
    {
     "name": "stdout",
     "output_type": "stream",
     "text": [
      "[1, 2, 3, 4, 5]\n"
     ]
    }
   ],
   "source": [
    "a = [3, 1, 5, 4, 2]\n",
    "a.sort()\n",
    "print(a)"
   ]
  },
  {
   "cell_type": "code",
   "execution_count": 126,
   "id": "2886bb09",
   "metadata": {},
   "outputs": [
    {
     "name": "stdout",
     "output_type": "stream",
     "text": [
      "[1, 2, 3, 4, 5]\n",
      "[3, 1, 5, 4, 2]\n"
     ]
    }
   ],
   "source": [
    "a = [3, 1, 5, 4, 2]\n",
    "print(sorted(a))\n",
    "print(a)"
   ]
  },
  {
   "cell_type": "markdown",
   "id": "35933e8e",
   "metadata": {},
   "source": [
    "Но можем использовать вторую вместо первой:"
   ]
  },
  {
   "cell_type": "code",
   "execution_count": 127,
   "id": "953f6807",
   "metadata": {},
   "outputs": [
    {
     "name": "stdout",
     "output_type": "stream",
     "text": [
      "[1, 2, 3, 4, 5]\n"
     ]
    }
   ],
   "source": [
    "a = [3, 1, 5, 4, 2]\n",
    "a = sorted(a)\n",
    "print(a)"
   ]
  },
  {
   "cell_type": "markdown",
   "id": "a4b08cda",
   "metadata": {},
   "source": [
    "Сортировка по ключу. key - это второй параметр функции `sorted` и он часто записывает в виде лямбда-функции, которая возвращает функции от объектов, которые мы используем в качестве меры этих объектов для сортировки"
   ]
  },
  {
   "cell_type": "code",
   "execution_count": 128,
   "id": "7acaea5d",
   "metadata": {},
   "outputs": [
    {
     "name": "stdout",
     "output_type": "stream",
     "text": [
      "[5, 4, 3, 2, 1]\n"
     ]
    }
   ],
   "source": [
    "a = [3, 1, 5, 4, 2]\n",
    "a = sorted(a, key = lambda x: -x)\n",
    "print(a)"
   ]
  },
  {
   "cell_type": "code",
   "execution_count": 129,
   "id": "999810ba",
   "metadata": {},
   "outputs": [
    {
     "name": "stdout",
     "output_type": "stream",
     "text": [
      "[[3, 0], [1, 5], [3, 3], [5, 5]]\n"
     ]
    }
   ],
   "source": [
    "a = [[1, 5], [3, 3], [5, 5], [3, 0]]\n",
    "print(sorted(a, key = lambda x: sum(x)))"
   ]
  },
  {
   "cell_type": "code",
   "execution_count": 130,
   "id": "5ea4f6f5",
   "metadata": {},
   "outputs": [
    {
     "name": "stdout",
     "output_type": "stream",
     "text": [
      "[[3, 0], [3, 3], [1, 5], [5, 5]]\n"
     ]
    }
   ],
   "source": [
    "a = [[1, 5], [3, 3], [5, 5], [3, 0]]\n",
    "print(sorted(a, key = lambda x: x[0] ** 2 + x[1] ** 2))"
   ]
  },
  {
   "cell_type": "markdown",
   "id": "36ab77a2",
   "metadata": {},
   "source": [
    "Можем сортировать по нескольким параметрам в порядке убывания приоритета:"
   ]
  },
  {
   "cell_type": "code",
   "execution_count": 131,
   "id": "53845f34",
   "metadata": {},
   "outputs": [
    {
     "name": "stdout",
     "output_type": "stream",
     "text": [
      "[[3, 4], [2, 5], [1, 6]]\n"
     ]
    }
   ],
   "source": [
    "a = [[1, 6], [2, 5], [3, 4]]\n",
    "print(sorted(a, key = lambda x: (sum(x), x[1])))"
   ]
  },
  {
   "cell_type": "markdown",
   "id": "7d0ad4e6",
   "metadata": {},
   "source": [
    "`(sum(x), x[1])` - это кортеж. Кортежи похожи на списки, но они неизменяемы (нельзя присваивать по индексу и добавлять элементы)"
   ]
  },
  {
   "cell_type": "code",
   "execution_count": 132,
   "id": "009d6082",
   "metadata": {},
   "outputs": [
    {
     "name": "stdout",
     "output_type": "stream",
     "text": [
      "[1, 3]\n"
     ]
    }
   ],
   "source": [
    "a = [1, 2]\n",
    "a[1] = 3\n",
    "print(a)"
   ]
  },
  {
   "cell_type": "code",
   "execution_count": 133,
   "id": "435c3f6c",
   "metadata": {},
   "outputs": [
    {
     "ename": "TypeError",
     "evalue": "'tuple' object does not support item assignment",
     "output_type": "error",
     "traceback": [
      "\u001b[0;31m---------------------------------------------------------------------------\u001b[0m",
      "\u001b[0;31mTypeError\u001b[0m                                 Traceback (most recent call last)",
      "\u001b[0;32m/tmp/ipykernel_3510/2988772165.py\u001b[0m in \u001b[0;36m<module>\u001b[0;34m\u001b[0m\n\u001b[1;32m      1\u001b[0m \u001b[0ma\u001b[0m \u001b[0;34m=\u001b[0m \u001b[0;34m(\u001b[0m\u001b[0;36m1\u001b[0m\u001b[0;34m,\u001b[0m \u001b[0;36m2\u001b[0m\u001b[0;34m)\u001b[0m\u001b[0;34m\u001b[0m\u001b[0;34m\u001b[0m\u001b[0m\n\u001b[0;32m----> 2\u001b[0;31m \u001b[0ma\u001b[0m\u001b[0;34m[\u001b[0m\u001b[0;36m1\u001b[0m\u001b[0;34m]\u001b[0m \u001b[0;34m=\u001b[0m \u001b[0;36m3\u001b[0m\u001b[0;34m\u001b[0m\u001b[0;34m\u001b[0m\u001b[0m\n\u001b[0m\u001b[1;32m      3\u001b[0m \u001b[0mprint\u001b[0m\u001b[0;34m(\u001b[0m\u001b[0ma\u001b[0m\u001b[0;34m)\u001b[0m\u001b[0;34m\u001b[0m\u001b[0;34m\u001b[0m\u001b[0m\n",
      "\u001b[0;31mTypeError\u001b[0m: 'tuple' object does not support item assignment"
     ]
    }
   ],
   "source": [
    "a = (1, 2)\n",
    "a[1] = 3\n",
    "print(a)"
   ]
  },
  {
   "cell_type": "code",
   "execution_count": 134,
   "id": "96e37c3d",
   "metadata": {},
   "outputs": [
    {
     "name": "stdout",
     "output_type": "stream",
     "text": [
      "[1, 2, 3]\n"
     ]
    }
   ],
   "source": [
    "a = [1, 2]\n",
    "a.append(3)\n",
    "print(a)"
   ]
  },
  {
   "cell_type": "code",
   "execution_count": 135,
   "id": "f5a32233",
   "metadata": {},
   "outputs": [
    {
     "ename": "AttributeError",
     "evalue": "'tuple' object has no attribute 'append'",
     "output_type": "error",
     "traceback": [
      "\u001b[0;31m---------------------------------------------------------------------------\u001b[0m",
      "\u001b[0;31mAttributeError\u001b[0m                            Traceback (most recent call last)",
      "\u001b[0;32m/tmp/ipykernel_3510/2197499556.py\u001b[0m in \u001b[0;36m<module>\u001b[0;34m\u001b[0m\n\u001b[1;32m      1\u001b[0m \u001b[0ma\u001b[0m \u001b[0;34m=\u001b[0m \u001b[0;34m(\u001b[0m\u001b[0;36m1\u001b[0m\u001b[0;34m,\u001b[0m \u001b[0;36m2\u001b[0m\u001b[0;34m)\u001b[0m\u001b[0;34m\u001b[0m\u001b[0;34m\u001b[0m\u001b[0m\n\u001b[0;32m----> 2\u001b[0;31m \u001b[0ma\u001b[0m\u001b[0;34m.\u001b[0m\u001b[0mappend\u001b[0m\u001b[0;34m(\u001b[0m\u001b[0;36m3\u001b[0m\u001b[0;34m)\u001b[0m\u001b[0;34m\u001b[0m\u001b[0;34m\u001b[0m\u001b[0m\n\u001b[0m\u001b[1;32m      3\u001b[0m \u001b[0mprint\u001b[0m\u001b[0;34m(\u001b[0m\u001b[0ma\u001b[0m\u001b[0;34m)\u001b[0m\u001b[0;34m\u001b[0m\u001b[0;34m\u001b[0m\u001b[0m\n",
      "\u001b[0;31mAttributeError\u001b[0m: 'tuple' object has no attribute 'append'"
     ]
    }
   ],
   "source": [
    "a = (1, 2)\n",
    "a.append(3)\n",
    "print(a)"
   ]
  },
  {
   "cell_type": "code",
   "execution_count": 136,
   "id": "1b626f89",
   "metadata": {},
   "outputs": [
    {
     "name": "stdout",
     "output_type": "stream",
     "text": [
      "[3, 4]\n"
     ]
    }
   ],
   "source": [
    "a = [1, 2]\n",
    "a = [3, 4]\n",
    "print(a)"
   ]
  },
  {
   "cell_type": "code",
   "execution_count": 137,
   "id": "0fa7c68a",
   "metadata": {},
   "outputs": [
    {
     "name": "stdout",
     "output_type": "stream",
     "text": [
      "(3, 4)\n"
     ]
    }
   ],
   "source": [
    "a = (1, 2)\n",
    "a = (3, 4)\n",
    "print(a)"
   ]
  },
  {
   "cell_type": "markdown",
   "id": "7f6bc90e",
   "metadata": {},
   "source": [
    "Строки сортируются в лексикографическом порядке:"
   ]
  },
  {
   "cell_type": "code",
   "execution_count": 138,
   "id": "7f7b871b",
   "metadata": {},
   "outputs": [
    {
     "name": "stdout",
     "output_type": "stream",
     "text": [
      "['100', '11', '119', '12', '120']\n"
     ]
    }
   ],
   "source": [
    "a = [\"100\", \"11\", \"12\", \"120\", \"119\"]\n",
    "print(sorted(a))"
   ]
  },
  {
   "cell_type": "code",
   "execution_count": 139,
   "id": "7579dcda",
   "metadata": {},
   "outputs": [
    {
     "name": "stdout",
     "output_type": "stream",
     "text": [
      "['11', '12', '100', '119', '120']\n"
     ]
    }
   ],
   "source": [
    "a = [\"100\", \"11\", \"12\", \"120\", \"119\"]\n",
    "print(sorted(a, key = lambda x: int(x)))"
   ]
  },
  {
   "cell_type": "markdown",
   "id": "e58bbfcc",
   "metadata": {},
   "source": [
    "## Снова к файлам"
   ]
  },
  {
   "cell_type": "markdown",
   "id": "c4583973",
   "metadata": {},
   "source": [
    "**Пример:** дана таблица результатов олимпиады в формате \"Фамилия Имя Класс Балл\". Нужно скопировать ее в текстовый файл и считать в двумерный массив. Задача - определить фамилию и имя победителя олимпиады. Если их несколько, вывести первого в лексикографическом порядке.\n",
    "\n",
    "Решение: считаем данные в двумерный список. Отсортируем его по убыванию балла и по возрастанию ФИ.\n",
    "\n",
    "Таблица:\n",
    "\n",
    "    Иванов Сергей 9 90\n",
    "    Сергеев Петр 10 85\n",
    "    Петров Иван 11 90"
   ]
  },
  {
   "cell_type": "code",
   "execution_count": 140,
   "id": "1295ab84",
   "metadata": {},
   "outputs": [
    {
     "name": "stdout",
     "output_type": "stream",
     "text": [
      "[['Иванов', 'Сергей', '9', '90'], ['Сергеев', 'Петр', '10', '85'], ['Петров', 'Иван', '11', '90']]\n"
     ]
    }
   ],
   "source": [
    "with open(\"input.txt\", \"r\", encoding=\"utf-8\") as f:\n",
    "    a = list(map(lambda x: x.rstrip().split(), f.readlines()))\n",
    "    print(a)"
   ]
  },
  {
   "cell_type": "code",
   "execution_count": 141,
   "id": "e102afba",
   "metadata": {},
   "outputs": [
    {
     "name": "stdout",
     "output_type": "stream",
     "text": [
      "[['Иванов', 'Сергей', '9', '90'], ['Петров', 'Иван', '11', '90'], ['Сергеев', 'Петр', '10', '85']]\n"
     ]
    }
   ],
   "source": [
    "print(sorted(a, key = lambda x: (-int(x[3]), x[0], x[1])))"
   ]
  },
  {
   "cell_type": "code",
   "execution_count": 142,
   "id": "8c29b96e",
   "metadata": {},
   "outputs": [
    {
     "name": "stdout",
     "output_type": "stream",
     "text": [
      "Иванов Сергей\n"
     ]
    }
   ],
   "source": [
    "print(\" \".join(sorted(a, key = lambda x: (-int(x[3]), x[0], x[1]))[0][:2]))"
   ]
  },
  {
   "cell_type": "markdown",
   "id": "c233c0df",
   "metadata": {},
   "source": [
    "## Генераторы и отложенные вычисления"
   ]
  },
  {
   "cell_type": "code",
   "execution_count": 143,
   "id": "d2c31a60",
   "metadata": {},
   "outputs": [
    {
     "name": "stdout",
     "output_type": "stream",
     "text": [
      "foo called for 1\n",
      "10\n",
      "foo called for 2\n",
      "20\n",
      "foo called for 3\n",
      "30\n"
     ]
    }
   ],
   "source": [
    "def foo(x):\n",
    "    print(f\"foo called for {x}\")\n",
    "    return x * 10\n",
    "\n",
    "for x in map(foo, [1, 2, 3]):\n",
    "    print(x)"
   ]
  },
  {
   "cell_type": "code",
   "execution_count": 144,
   "id": "471d3f6d",
   "metadata": {},
   "outputs": [
    {
     "name": "stdout",
     "output_type": "stream",
     "text": [
      "Iterations start:\n",
      "foo called for 1\n",
      "boo called for 10\n",
      "1010\n",
      "foo called for 2\n",
      "boo called for 20\n",
      "1020\n",
      "foo called for 3\n",
      "boo called for 30\n",
      "1030\n"
     ]
    }
   ],
   "source": [
    "def foo(x):\n",
    "    print(f\"foo called for {x}\")\n",
    "    return x * 10\n",
    "\n",
    "def boo(x):\n",
    "    print(f\"boo called for {x}\")\n",
    "    return x + 1000\n",
    "\n",
    "A = [1, 2, 3]\n",
    "B = map(foo, A)\n",
    "C = map(boo, B)\n",
    "print(\"Iterations start:\")\n",
    "for x in C:\n",
    "    print(x)"
   ]
  },
  {
   "cell_type": "markdown",
   "id": "b9b2c2a5",
   "metadata": {},
   "source": [
    "## Итерируемые объекты"
   ]
  },
  {
   "cell_type": "markdown",
   "id": "28ad489b",
   "metadata": {},
   "source": [
    "Часто бывает удобно использовать *распаковку* переменных:"
   ]
  },
  {
   "cell_type": "code",
   "execution_count": 145,
   "id": "5dd09d97",
   "metadata": {},
   "outputs": [
    {
     "name": "stdout",
     "output_type": "stream",
     "text": [
      "1\n",
      "2\n"
     ]
    }
   ],
   "source": [
    "a, b = 1, 2\n",
    "print(a)\n",
    "print(b)"
   ]
  },
  {
   "cell_type": "code",
   "execution_count": 146,
   "id": "f6d9de19",
   "metadata": {},
   "outputs": [
    {
     "name": "stdout",
     "output_type": "stream",
     "text": [
      "1\n",
      "2\n",
      "3\n"
     ]
    }
   ],
   "source": [
    "a, b, c = [1, 2, 3]\n",
    "print(a)\n",
    "print(b)\n",
    "print(c)"
   ]
  },
  {
   "cell_type": "code",
   "execution_count": 147,
   "id": "8a7bc4c0",
   "metadata": {},
   "outputs": [
    {
     "ename": "ValueError",
     "evalue": "too many values to unpack (expected 3)",
     "output_type": "error",
     "traceback": [
      "\u001b[0;31m---------------------------------------------------------------------------\u001b[0m",
      "\u001b[0;31mValueError\u001b[0m                                Traceback (most recent call last)",
      "\u001b[0;32m/tmp/ipykernel_3510/1897448987.py\u001b[0m in \u001b[0;36m<module>\u001b[0;34m\u001b[0m\n\u001b[0;32m----> 1\u001b[0;31m \u001b[0ma\u001b[0m\u001b[0;34m,\u001b[0m \u001b[0mb\u001b[0m\u001b[0;34m,\u001b[0m \u001b[0mc\u001b[0m \u001b[0;34m=\u001b[0m \u001b[0;34m[\u001b[0m\u001b[0;36m1\u001b[0m\u001b[0;34m,\u001b[0m \u001b[0;36m2\u001b[0m\u001b[0;34m,\u001b[0m \u001b[0;36m3\u001b[0m\u001b[0;34m,\u001b[0m \u001b[0;36m4\u001b[0m\u001b[0;34m,\u001b[0m \u001b[0;36m5\u001b[0m\u001b[0;34m]\u001b[0m\u001b[0;34m\u001b[0m\u001b[0;34m\u001b[0m\u001b[0m\n\u001b[0m",
      "\u001b[0;31mValueError\u001b[0m: too many values to unpack (expected 3)"
     ]
    }
   ],
   "source": [
    "a, b, c = [1, 2, 3, 4, 5]"
   ]
  },
  {
   "cell_type": "code",
   "execution_count": 148,
   "id": "824efb53",
   "metadata": {},
   "outputs": [
    {
     "name": "stdout",
     "output_type": "stream",
     "text": [
      "[1, 2, 3] 4 5\n"
     ]
    }
   ],
   "source": [
    "*a, b, c = [1, 2, 3, 4, 5]\n",
    "print(a, b, c)"
   ]
  },
  {
   "cell_type": "code",
   "execution_count": 149,
   "id": "6bae667a",
   "metadata": {},
   "outputs": [
    {
     "name": "stdout",
     "output_type": "stream",
     "text": [
      "1 [2, 3, 4] 5\n"
     ]
    }
   ],
   "source": [
    "a, *b, c = [1, 2, 3, 4, 5]\n",
    "print(a, b, c)"
   ]
  },
  {
   "cell_type": "code",
   "execution_count": 150,
   "id": "b59f365f",
   "metadata": {},
   "outputs": [
    {
     "name": "stdout",
     "output_type": "stream",
     "text": [
      "1 2 [3, 4, 5]\n"
     ]
    }
   ],
   "source": [
    "a, b, *c = [1, 2, 3, 4, 5]\n",
    "print(a, b, c)"
   ]
  },
  {
   "cell_type": "code",
   "execution_count": 151,
   "id": "207af4f8",
   "metadata": {},
   "outputs": [
    {
     "name": "stdout",
     "output_type": "stream",
     "text": [
      "1 2 3\n",
      "4 5 6\n",
      "7 8 9\n"
     ]
    }
   ],
   "source": [
    "for a, b, c in [(1, 2, 3), (4, 5, 6), (7, 8, 9)]:\n",
    "    print(a, b, c)"
   ]
  },
  {
   "cell_type": "code",
   "execution_count": 154,
   "id": "5f2be0ff",
   "metadata": {},
   "outputs": [
    {
     "name": "stdout",
     "output_type": "stream",
     "text": [
      "1 [2, 3, 4]\n",
      "10 [20]\n",
      "100 [200, 300]\n"
     ]
    }
   ],
   "source": [
    "for a, *b in [(1, 2, 3, 4), (10, 20), (100, 200, 300)]:\n",
    "    print(a, b)"
   ]
  },
  {
   "cell_type": "code",
   "execution_count": 157,
   "id": "866f2440",
   "metadata": {},
   "outputs": [
    {
     "name": "stdout",
     "output_type": "stream",
     "text": [
      "1 2 3\n"
     ]
    }
   ],
   "source": [
    "a, (b, c) = [1, (2, 3)]\n",
    "print(a, b, c)"
   ]
  },
  {
   "cell_type": "markdown",
   "id": "765afc8a",
   "metadata": {},
   "source": [
    "### enumerate, zip, for с распаковкой "
   ]
  },
  {
   "cell_type": "markdown",
   "id": "5fa29a5a",
   "metadata": {},
   "source": [
    "В цикле `for` также можно использовать распаковку:"
   ]
  },
  {
   "cell_type": "code",
   "execution_count": 158,
   "id": "e3e3cb71",
   "metadata": {},
   "outputs": [
    {
     "name": "stdout",
     "output_type": "stream",
     "text": [
      "1 2 3\n",
      "3 4 7\n",
      "5 6 11\n"
     ]
    }
   ],
   "source": [
    "a = [[1, 2], [3, 4], [5, 6]]\n",
    "for x, y in a:\n",
    "    print(x, y, x + y)"
   ]
  },
  {
   "cell_type": "markdown",
   "id": "2bb6559b",
   "metadata": {},
   "source": [
    "Часто такая распаковка используется не сама по себе, а вместе с использованием удобных функций `zip` и `enumerate`, которые позволяют удобнее работать со списками:"
   ]
  },
  {
   "cell_type": "code",
   "execution_count": 159,
   "id": "d35a510a",
   "metadata": {},
   "outputs": [
    {
     "name": "stdout",
     "output_type": "stream",
     "text": [
      "0 [1, 2, 3] 6\n",
      "1 [4, 5, 6] 15\n",
      "2 [7, 8, 9] 24\n",
      "3 [0, 0, 0] 0\n"
     ]
    }
   ],
   "source": [
    "a = [[1, 2, 3], [4, 5, 6], [7, 8, 9], [0, 0, 0]]\n",
    "for i, x in enumerate(a):\n",
    "    print(i, x, sum(x))"
   ]
  },
  {
   "cell_type": "code",
   "execution_count": 162,
   "id": "70889557",
   "metadata": {},
   "outputs": [
    {
     "name": "stdout",
     "output_type": "stream",
     "text": [
      "dog\n",
      "cat\n",
      "mouse\n",
      "duck\n",
      "goose\n"
     ]
    }
   ],
   "source": [
    "with open(\"1.txt\", \"w\") as f:\n",
    "    f.writelines([word + \"\\n\" for word in [\"dog\", \"cat\", \"mouse\", \"duck\", \"goose\"]])\n",
    "for line in open(\"1.txt\"):\n",
    "    print(line.strip())"
   ]
  },
  {
   "cell_type": "code",
   "execution_count": 163,
   "id": "a34d5858",
   "metadata": {
    "scrolled": true
   },
   "outputs": [
    {
     "name": "stdout",
     "output_type": "stream",
     "text": [
      "0 dog\n",
      "1 cat\n",
      "2 mouse\n",
      "3 duck\n",
      "4 goose\n"
     ]
    }
   ],
   "source": [
    "for i, x in enumerate(open(\"1.txt\")):\n",
    "    print(i, x.rstrip())"
   ]
  },
  {
   "cell_type": "code",
   "execution_count": 164,
   "id": "5f28d35c",
   "metadata": {},
   "outputs": [
    {
     "name": "stdout",
     "output_type": "stream",
     "text": [
      "[('ab', 1), ('cd', 2), ('ef', 3)]\n"
     ]
    }
   ],
   "source": [
    "a = [\"ab\", \"cd\", \"ef\"]\n",
    "b = [1, 2, 3]\n",
    "print(list(zip(a, b)))"
   ]
  },
  {
   "cell_type": "code",
   "execution_count": 165,
   "id": "8f44fcfd",
   "metadata": {},
   "outputs": [
    {
     "name": "stdout",
     "output_type": "stream",
     "text": [
      "a 0\n",
      "b 1\n",
      "c 2\n",
      "d 3\n",
      "e 4\n"
     ]
    }
   ],
   "source": [
    "for a, b in zip(\"abcde\", range(5)):\n",
    "    print(a, b)"
   ]
  },
  {
   "cell_type": "code",
   "execution_count": 166,
   "id": "172870c2",
   "metadata": {},
   "outputs": [
    {
     "name": "stdout",
     "output_type": "stream",
     "text": [
      "a 0\n",
      "b 1\n",
      "c 2\n",
      "d 3\n",
      "e 4\n"
     ]
    }
   ],
   "source": [
    "for a, b in zip(\"abcde\", range(10)):\n",
    "    print(a, b)"
   ]
  },
  {
   "cell_type": "markdown",
   "id": "9b5d74fb",
   "metadata": {},
   "source": [
    "## itertools"
   ]
  },
  {
   "cell_type": "markdown",
   "id": "f6fc0268",
   "metadata": {},
   "source": [
    "Для более удобной работы с итерируемыми объектами мы можем использовать библиотеку `itertools`. Для этого нужно ее импортировать:"
   ]
  },
  {
   "cell_type": "code",
   "execution_count": 194,
   "id": "40027db1",
   "metadata": {},
   "outputs": [
    {
     "name": "stdout",
     "output_type": "stream",
     "text": [
      "24\n",
      "[('A', 'B', 'C'), ('A', 'B', 'D'), ('A', 'C', 'B'), ('A', 'C', 'D'), ('A', 'D', 'B'), ('A', 'D', 'C'), ('B', 'A', 'C'), ('B', 'A', 'D'), ('B', 'C', 'A'), ('B', 'C', 'D'), ('B', 'D', 'A'), ('B', 'D', 'C'), ('C', 'A', 'B'), ('C', 'A', 'D'), ('C', 'B', 'A'), ('C', 'B', 'D'), ('C', 'D', 'A'), ('C', 'D', 'B'), ('D', 'A', 'B'), ('D', 'A', 'C'), ('D', 'B', 'A'), ('D', 'B', 'C'), ('D', 'C', 'A'), ('D', 'C', 'B')]\n"
     ]
    }
   ],
   "source": [
    "#import itertools as it\n",
    "q=[*it.permutations(\"ABCD\", 3)]\n",
    "print(len(q))\n",
    "print(q)\n"
   ]
  },
  {
   "cell_type": "code",
   "execution_count": 172,
   "id": "a2e7b20a",
   "metadata": {},
   "outputs": [
    {
     "name": "stdout",
     "output_type": "stream",
     "text": [
      "AAA\n",
      "AAA\n",
      "AAA\n",
      "AAA\n",
      "AAA\n",
      "AAA\n"
     ]
    }
   ],
   "source": [
    "for x, y, z in it.permutations(\"ABC\"):\n",
    "    print(x, y, z, sep='')"
   ]
  },
  {
   "cell_type": "code",
   "execution_count": 173,
   "id": "34109753",
   "metadata": {},
   "outputs": [
    {
     "name": "stdout",
     "output_type": "stream",
     "text": [
      "ABC ABD ACB ACD ADB ADC BAC BAD BCA BCD BDA BDC CAB CAD CBA CBD CDA CDB DAB DAC DBA DBC DCA DCB "
     ]
    }
   ],
   "source": [
    "for x, y, z in it.permutations(\"ABCD\", 3):\n",
    "    print(x, y, z, sep='', end=' ')"
   ]
  },
  {
   "cell_type": "markdown",
   "id": "860da4be",
   "metadata": {},
   "source": [
    "**Упражнение:**\n",
    "Вычислите с помощью `it.permutation` $C_{12}^{5}$"
   ]
  },
  {
   "cell_type": "code",
   "execution_count": 200,
   "id": "b43dcc6b",
   "metadata": {},
   "outputs": [
    {
     "name": "stdout",
     "output_type": "stream",
     "text": [
      "95040\n",
      "95040\n"
     ]
    }
   ],
   "source": [
    "\n",
    "def fact(x):\n",
    "    if x==1:\n",
    "        return 1\n",
    "    else:\n",
    "        return fact(x-1)*x\n",
    "\n",
    "print(fact(12)//fact(12-5))\n",
    "\n",
    "q=[*it.permutations(\"1234567890AB\", 5)]\n",
    "print(len(q))\n",
    "\n",
    "\n"
   ]
  },
  {
   "cell_type": "code",
   "execution_count": 201,
   "id": "5b112ac3",
   "metadata": {},
   "outputs": [
    {
     "name": "stdout",
     "output_type": "stream",
     "text": [
      "AB AC AD AE BC BD BE CD CE DE "
     ]
    }
   ],
   "source": [
    "for x, y in it.combinations(\"ABCDE\", 2):\n",
    "    print(x, y, sep='', end=' ')"
   ]
  },
  {
   "cell_type": "code",
   "execution_count": 202,
   "id": "154afae1",
   "metadata": {},
   "outputs": [
    {
     "name": "stdout",
     "output_type": "stream",
     "text": [
      "AA AB AC AD AE BB BC BD BE CC CD CE DD DE EE "
     ]
    }
   ],
   "source": [
    "for x, y in it.combinations_with_replacement(\"ABCDE\", 2):\n",
    "    print(x, y, sep='', end=' ')"
   ]
  },
  {
   "cell_type": "code",
   "execution_count": 204,
   "id": "9a7ad207",
   "metadata": {},
   "outputs": [
    {
     "name": "stdout",
     "output_type": "stream",
     "text": [
      "м-а-м-а-м-ы-л-а-р-а-м-у-"
     ]
    }
   ],
   "source": [
    "for a in it.chain(\"мама\", \"мыла\", \"раму\"):\n",
    "    print(a, end='-')"
   ]
  },
  {
   "cell_type": "code",
   "execution_count": 207,
   "id": "72c4e409",
   "metadata": {},
   "outputs": [
    {
     "name": "stdout",
     "output_type": "stream",
     "text": [
      "5@4@3@3@4@5@[3, 4, 5]@"
     ]
    }
   ],
   "source": [
    "for a in it.chain([5, 4, 3], [3, 4, 5], [[3, 4, 5]]):\n",
    "    print(a, end='@')"
   ]
  },
  {
   "cell_type": "code",
   "execution_count": 208,
   "id": "950eed61",
   "metadata": {},
   "outputs": [
    {
     "name": "stdout",
     "output_type": "stream",
     "text": [
      "w A\n",
      "w B\n",
      "w C\n",
      "x A\n",
      "x B\n",
      "x C\n",
      "y A\n",
      "y B\n",
      "y C\n",
      "z A\n",
      "z B\n",
      "z C\n"
     ]
    }
   ],
   "source": [
    "for n, s in it.product(\"wxyz\", \"ABC\"):\n",
    "    print(n, s)"
   ]
  },
  {
   "cell_type": "markdown",
   "id": "6b925d3f",
   "metadata": {},
   "source": [
    "**Упражнение:**\n",
    "Введите 2 списка (координаты вектора `a` и координаты вектора `b`) и найдите скалярное произведение этих векторов, используя `zip` или что-нибудь из `itertools`."
   ]
  },
  {
   "cell_type": "code",
   "execution_count": 209,
   "id": "80086fe0",
   "metadata": {},
   "outputs": [
    {
     "name": "stdout",
     "output_type": "stream",
     "text": [
      "32\n"
     ]
    }
   ],
   "source": [
    "a=[1,2,3]\n",
    "b=[4,5,6]\n",
    "p=0\n",
    "for q,w in zip(a,b):\n",
    "    p+=q*w\n",
    "print(p)"
   ]
  },
  {
   "cell_type": "code",
   "execution_count": 215,
   "id": "075f6dd2",
   "metadata": {},
   "outputs": [
    {
     "name": "stdout",
     "output_type": "stream",
     "text": [
      "[0, 1, 2, 3, 4]\n",
      "[1, 1, 2, 3, 4]\n",
      "[2, 2, 2, 3, 4]\n",
      "[3, 3, 3, 3, 4]\n",
      "[4, 4, 4, 4, 4]\n"
     ]
    }
   ],
   "source": [
    "#[[ i*m +j for j in range(m)] for i in range(n)] \n",
    "n,m=5,6\n",
    "a=[[ i if i>j else j for j in range(n)] for i in range(n)] #[[ i if i>j else j for j in range(m)] for i in range(n)] \n",
    "for g in a:\n",
    "    print(g)"
   ]
  },
  {
   "cell_type": "code",
   "execution_count": 1,
   "id": "55935817",
   "metadata": {},
   "outputs": [
    {
     "name": "stdout",
     "output_type": "stream",
     "text": [
      "39 9 навИ веьлисаВ\n",
      "29 11 йилисаВ вортеП\n",
      "19 01 ртеП веегреС\n",
      "09 9 йегреС вонавИ\n"
     ]
    }
   ],
   "source": [
    "\"\"\"def replace_last(string, find, replace):\n",
    "    reversed = string[::-1]\n",
    "    replaced = reversed.replace(find[::-1], replace[::-1], 1)\n",
    "    return replaced[::-1]\n",
    "\"\"\"\n",
    "\n",
    "with open(\"input.txt\",\"r\") as f:\n",
    "    a=f.read()#.replace('\\n','',1)  \n",
    "    #a=replace_last(a,'\\n','')\n",
    "    a=''.join(reversed(a))\n",
    "    print(a) #print('\\n')\n",
    "    #print(*a[::-1],sep='',end='')\n",
    "    "
   ]
  },
  {
   "cell_type": "code",
   "execution_count": 2,
   "id": "51e36327",
   "metadata": {},
   "outputs": [
    {
     "name": "stdout",
     "output_type": "stream",
     "text": [
      "9\n"
     ]
    }
   ],
   "source": [
    "maxi=0\n",
    "scho=[]\n",
    "with open('input.txt', 'r', encoding='utf-8') as f:\n",
    "    a=f.readlines()\n",
    "    for b in a:\n",
    "        b=b.split()        \n",
    "        bal,bu=int(b[3]),int(b[2])\n",
    "        if(bal>maxi):\n",
    "            scho=[]\n",
    "            scho.append(bu)\n",
    "            maxi=bal\n",
    "        elif bal==maxi:\n",
    "            if not(bu in scho):\n",
    "                scho.append(bu)\n",
    "    scho=sorted(scho)\n",
    "    print(*scho)\n",
    "        \n",
    "    \n",
    "    \"\"\"while(1):\n",
    "        a=f.readlines()\n",
    "        if a==\"\":\n",
    "            break;\n",
    "        a=a.split()\n",
    "        \n",
    "        #ind,bal=int(a[2])-9,int(a[3])\n",
    "        #if bal>maxi[ind]:\n",
    "        #    maxi[ind]=bal\n",
    "    #print(*maxi)\"\"\""
   ]
  },
  {
   "cell_type": "code",
   "execution_count": 313,
   "id": "6c712cd8",
   "metadata": {},
   "outputs": [
    {
     "name": "stdout",
     "output_type": "stream",
     "text": [
      "Андреев Роман 75\n",
      "Васильев Андрей 56\n",
      "Иванов Сергей 56\n",
      "Петров Василий 99\n",
      "Романов Иван 68\n",
      "Сергеев Петр 74\n"
     ]
    }
   ],
   "source": [
    "def funk(x):\n",
    "    x=x.split()\n",
    "    del x[2]\n",
    "    x=\" \".join(x)\n",
    "    return x\n",
    "\n",
    "with open('input.txt', 'r', encoding='utf-8') as f:\n",
    "    a=f.readlines()\n",
    "    a=sorted(a)\n",
    "    a=list(map(funk,a))\n",
    "    print(*a,sep=\"\\n\")\n",
    "    "
   ]
  },
  {
   "cell_type": "code",
   "execution_count": 321,
   "id": "1fdf58a1",
   "metadata": {},
   "outputs": [
    {
     "name": "stdout",
     "output_type": "stream",
     "text": [
      "\n",
      "Welcome to Python 3.8's help utility!\n",
      "\n",
      "If this is your first time using Python, you should definitely check out\n",
      "the tutorial on the Internet at https://docs.python.org/3.8/tutorial/.\n",
      "\n",
      "Enter the name of any module, keyword, or topic to get help on writing\n",
      "Python programs and using Python modules.  To quit this help utility and\n",
      "return to the interpreter, just type \"quit\".\n",
      "\n",
      "To get a list of available modules, keywords, symbols, or topics, type\n",
      "\"modules\", \"keywords\", \"symbols\", or \"topics\".  Each module also comes\n",
      "with a one-line summary of what it does; to list the modules whose name\n",
      "or summary contain a given string such as \"spam\", type \"modules spam\".\n",
      "\n",
      "help> list\n",
      "Help on class list in module builtins:\n",
      "\n",
      "class list(object)\n",
      " |  list(iterable=(), /)\n",
      " |  \n",
      " |  Built-in mutable sequence.\n",
      " |  \n",
      " |  If no argument is given, the constructor creates a new empty list.\n",
      " |  The argument must be an iterable if specified.\n",
      " |  \n",
      " |  Methods defined here:\n",
      " |  \n",
      " |  __add__(self, value, /)\n",
      " |      Return self+value.\n",
      " |  \n",
      " |  __contains__(self, key, /)\n",
      " |      Return key in self.\n",
      " |  \n",
      " |  __delitem__(self, key, /)\n",
      " |      Delete self[key].\n",
      " |  \n",
      " |  __eq__(self, value, /)\n",
      " |      Return self==value.\n",
      " |  \n",
      " |  __ge__(self, value, /)\n",
      " |      Return self>=value.\n",
      " |  \n",
      " |  __getattribute__(self, name, /)\n",
      " |      Return getattr(self, name).\n",
      " |  \n",
      " |  __getitem__(...)\n",
      " |      x.__getitem__(y) <==> x[y]\n",
      " |  \n",
      " |  __gt__(self, value, /)\n",
      " |      Return self>value.\n",
      " |  \n",
      " |  __iadd__(self, value, /)\n",
      " |      Implement self+=value.\n",
      " |  \n",
      " |  __imul__(self, value, /)\n",
      " |      Implement self*=value.\n",
      " |  \n",
      " |  __init__(self, /, *args, **kwargs)\n",
      " |      Initialize self.  See help(type(self)) for accurate signature.\n",
      " |  \n",
      " |  __iter__(self, /)\n",
      " |      Implement iter(self).\n",
      " |  \n",
      " |  __le__(self, value, /)\n",
      " |      Return self<=value.\n",
      " |  \n",
      " |  __len__(self, /)\n",
      " |      Return len(self).\n",
      " |  \n",
      " |  __lt__(self, value, /)\n",
      " |      Return self<value.\n",
      " |  \n",
      " |  __mul__(self, value, /)\n",
      " |      Return self*value.\n",
      " |  \n",
      " |  __ne__(self, value, /)\n",
      " |      Return self!=value.\n",
      " |  \n",
      " |  __repr__(self, /)\n",
      " |      Return repr(self).\n",
      " |  \n",
      " |  __reversed__(self, /)\n",
      " |      Return a reverse iterator over the list.\n",
      " |  \n",
      " |  __rmul__(self, value, /)\n",
      " |      Return value*self.\n",
      " |  \n",
      " |  __setitem__(self, key, value, /)\n",
      " |      Set self[key] to value.\n",
      " |  \n",
      " |  __sizeof__(self, /)\n",
      " |      Return the size of the list in memory, in bytes.\n",
      " |  \n",
      " |  append(self, object, /)\n",
      " |      Append object to the end of the list.\n",
      " |  \n",
      " |  clear(self, /)\n",
      " |      Remove all items from list.\n",
      " |  \n",
      " |  copy(self, /)\n",
      " |      Return a shallow copy of the list.\n",
      " |  \n",
      " |  count(self, value, /)\n",
      " |      Return number of occurrences of value.\n",
      " |  \n",
      " |  extend(self, iterable, /)\n",
      " |      Extend list by appending elements from the iterable.\n",
      " |  \n",
      " |  index(self, value, start=0, stop=9223372036854775807, /)\n",
      " |      Return first index of value.\n",
      " |      \n",
      " |      Raises ValueError if the value is not present.\n",
      " |  \n",
      " |  insert(self, index, object, /)\n",
      " |      Insert object before index.\n",
      " |  \n",
      " |  pop(self, index=-1, /)\n",
      " |      Remove and return item at index (default last).\n",
      " |      \n",
      " |      Raises IndexError if list is empty or index is out of range.\n",
      " |  \n",
      " |  remove(self, value, /)\n",
      " |      Remove first occurrence of value.\n",
      " |      \n",
      " |      Raises ValueError if the value is not present.\n",
      " |  \n",
      " |  reverse(self, /)\n",
      " |      Reverse *IN PLACE*.\n",
      " |  \n",
      " |  sort(self, /, *, key=None, reverse=False)\n",
      " |      Sort the list in ascending order and return None.\n",
      " |      \n",
      " |      The sort is in-place (i.e. the list itself is modified) and stable (i.e. the\n",
      " |      order of two equal elements is maintained).\n",
      " |      \n",
      " |      If a key function is given, apply it once to each list item and sort them,\n",
      " |      ascending or descending, according to their function values.\n",
      " |      \n",
      " |      The reverse flag can be set to sort in descending order.\n",
      " |  \n",
      " |  ----------------------------------------------------------------------\n",
      " |  Static methods defined here:\n",
      " |  \n",
      " |  __new__(*args, **kwargs) from builtins.type\n",
      " |      Create and return a new object.  See help(type) for accurate signature.\n",
      " |  \n",
      " |  ----------------------------------------------------------------------\n",
      " |  Data and other attributes defined here:\n",
      " |  \n",
      " |  __hash__ = None\n",
      "\n",
      "\n",
      "You are now leaving help and returning to the Python interpreter.\n",
      "If you want to ask for help on a particular object directly from the\n",
      "interpreter, you can type \"help(object)\".  Executing \"help('string')\"\n",
      "has the same effect as typing a particular string at the help> prompt.\n"
     ]
    }
   ],
   "source": [
    "help()"
   ]
  },
  {
   "cell_type": "code",
   "execution_count": 329,
   "id": "48b78dc7",
   "metadata": {},
   "outputs": [
    {
     "name": "stdout",
     "output_type": "stream",
     "text": [
      "91.5 91.0 92.0 "
     ]
    }
   ],
   "source": [
    "maxi=0\n",
    "scho=[[],[],[]]\n",
    "with open('input.txt', 'r', encoding='utf-8') as f:\n",
    "    a=f.readlines()\n",
    "    for b in a:\n",
    "        b=b.split()        \n",
    "        bal,bu=int(b[3]),int(b[2])-9\n",
    "        scho[bu].append(bal)\n",
    "        maxi=bal\n",
    "    for t in scho:\n",
    "        print(sum(t)/len(t),end=\" \")"
   ]
  },
  {
   "cell_type": "code",
   "execution_count": null,
   "id": "a60739e9",
   "metadata": {},
   "outputs": [],
   "source": []
  },
  {
   "cell_type": "code",
   "execution_count": null,
   "id": "2c400785",
   "metadata": {},
   "outputs": [],
   "source": []
  }
 ],
 "metadata": {
  "kernelspec": {
   "display_name": "Python 3 (ipykernel)",
   "language": "python",
   "name": "python3"
  },
  "language_info": {
   "codemirror_mode": {
    "name": "ipython",
    "version": 3
   },
   "file_extension": ".py",
   "mimetype": "text/x-python",
   "name": "python",
   "nbconvert_exporter": "python",
   "pygments_lexer": "ipython3",
   "version": "3.8.11"
  }
 },
 "nbformat": 4,
 "nbformat_minor": 5
}
