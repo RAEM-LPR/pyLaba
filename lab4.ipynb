{
 "cells": [
  {
   "cell_type": "markdown",
   "id": "5fb2790f",
   "metadata": {},
   "source": [
    "# NumPy"
   ]
  },
  {
   "cell_type": "markdown",
   "id": "923c29e9",
   "metadata": {},
   "source": [
    "**NumPy** - Библиотека для работы с многомерными массивами, например векторами и матрицами."
   ]
  },
  {
   "cell_type": "markdown",
   "id": "79808673",
   "metadata": {},
   "source": [
    "## Создание массивов"
   ]
  },
  {
   "cell_type": "markdown",
   "id": "988a89c7",
   "metadata": {},
   "source": [
    "Самый простой вариант - из привычных списков"
   ]
  },
  {
   "cell_type": "code",
   "execution_count": 1,
   "id": "e0aa21c0",
   "metadata": {},
   "outputs": [
    {
     "name": "stdout",
     "output_type": "stream",
     "text": [
      "[1 2 3]\n",
      "<class 'numpy.ndarray'> <class 'list'>\n"
     ]
    }
   ],
   "source": [
    "import numpy as np\n",
    "\n",
    "a = np.array([1, 2, 3])\n",
    "print(a)\n",
    "print(type(a), type([1, 2, 3]))"
   ]
  },
  {
   "cell_type": "markdown",
   "id": "16083d30",
   "metadata": {},
   "source": [
    "Создадим теперь двумерный массив - матрицу:"
   ]
  },
  {
   "cell_type": "code",
   "execution_count": 3,
   "id": "155fbfdd",
   "metadata": {},
   "outputs": [
    {
     "name": "stdout",
     "output_type": "stream",
     "text": [
      "[[1 2]\n",
      " [3 4]]\n"
     ]
    }
   ],
   "source": [
    "a = np.array([[1, 2], [3, 4]])\n",
    "print(a)"
   ]
  },
  {
   "cell_type": "markdown",
   "id": "611f3820",
   "metadata": {},
   "source": [
    "Для удобства, можно использовать вот такую функцию для красивого отображения матриц в Jupyter:"
   ]
  },
  {
   "cell_type": "code",
   "execution_count": 24,
   "id": "216d8f4a",
   "metadata": {},
   "outputs": [
    {
     "data": {
      "text/latex": [
       "$\\displaystyle \\begin{pmatrix}1&2\\\\3&4\\end{pmatrix}$"
      ],
      "text/plain": [
       "<IPython.core.display.Math object>"
      ]
     },
     "metadata": {},
     "output_type": "display_data"
    },
    {
     "name": "stdout",
     "output_type": "stream",
     "text": [
      "\\begin{pmatrix}1&2\\\\3&4\\end{pmatrix}\n"
     ]
    }
   ],
   "source": [
    "import IPython.display\n",
    "\n",
    "def show(mat):\n",
    "    tex = r'\\begin{pmatrix}' + r'\\\\'.join('&'.join(map(str, row)) for row in mat) + r'\\end{pmatrix}'\n",
    "    IPython.display.display(IPython.display.Math(tex))\n",
    "    print(tex)\n",
    "\n",
    "show(a)"
   ]
  },
  {
   "cell_type": "markdown",
   "id": "4393b79a",
   "metadata": {},
   "source": [
    "Еще несколько способов создания стандартных массивов:"
   ]
  },
  {
   "cell_type": "code",
   "execution_count": 4,
   "id": "c60101b8",
   "metadata": {},
   "outputs": [
    {
     "data": {
      "text/plain": [
       "array([15, 15, 15, 15, 15])"
      ]
     },
     "execution_count": 4,
     "metadata": {},
     "output_type": "execute_result"
    }
   ],
   "source": [
    "np.repeat(15, 5) # Массив полученные повторением исходного объекта"
   ]
  },
  {
   "cell_type": "code",
   "execution_count": 5,
   "id": "6b5e2051",
   "metadata": {},
   "outputs": [
    {
     "data": {
      "text/latex": [
       "$\\displaystyle \\begin{pmatrix}0.0&0.0&0.0\\\\0.0&0.0&0.0\\\\0.0&0.0&0.0\\end{pmatrix}$"
      ],
      "text/plain": [
       "<IPython.core.display.Math object>"
      ]
     },
     "metadata": {},
     "output_type": "display_data"
    }
   ],
   "source": [
    "show(np.zeros((3, 3))) # Массив из нулей"
   ]
  },
  {
   "cell_type": "code",
   "execution_count": 6,
   "id": "bd026f3b",
   "metadata": {},
   "outputs": [
    {
     "data": {
      "text/latex": [
       "$\\displaystyle \\begin{pmatrix}1.0\\\\1.0\\\\1.0\\end{pmatrix}$"
      ],
      "text/plain": [
       "<IPython.core.display.Math object>"
      ]
     },
     "metadata": {},
     "output_type": "display_data"
    }
   ],
   "source": [
    "show(np.ones((3, 1))) # Массив из единиц"
   ]
  },
  {
   "cell_type": "code",
   "execution_count": 7,
   "id": "ce0b414d",
   "metadata": {},
   "outputs": [
    {
     "data": {
      "text/latex": [
       "$\\displaystyle \\begin{pmatrix}1.0&0.0&0.0\\\\0.0&1.0&0.0\\\\0.0&0.0&1.0\\end{pmatrix}$"
      ],
      "text/plain": [
       "<IPython.core.display.Math object>"
      ]
     },
     "metadata": {},
     "output_type": "display_data"
    }
   ],
   "source": [
    "show(np.eye(3)) # Единичная матрица"
   ]
  },
  {
   "cell_type": "markdown",
   "id": "db9d023e",
   "metadata": {},
   "source": [
    "В отличае от списков (`list`), массивы **NumPy** всегда состоят из однотипных элементов.\n",
    "При создании массивов можно явно указать тип эелементов. При этом в **NumPy** свои типы, например `numpy.int32`, `numpy.int64`, `numpy.float64`. Впрочем, можно указывать и стандартные типы, которые будут отображены в `numpy` типы. Например:"
   ]
  },
  {
   "cell_type": "code",
   "execution_count": 8,
   "id": "a5fa080b",
   "metadata": {
    "scrolled": true
   },
   "outputs": [
    {
     "name": "stdout",
     "output_type": "stream",
     "text": [
      "int64\n",
      "<class 'numpy.int64'>\n"
     ]
    },
    {
     "data": {
      "text/latex": [
       "$\\displaystyle \\begin{pmatrix}1&0&0\\\\0&1&0\\\\0&0&1\\end{pmatrix}$"
      ],
      "text/plain": [
       "<IPython.core.display.Math object>"
      ]
     },
     "metadata": {},
     "output_type": "display_data"
    }
   ],
   "source": [
    "a = np.eye(3, dtype=int)\n",
    "print(a.dtype)\n",
    "print(type(a[0][0]))\n",
    "show(a)"
   ]
  },
  {
   "cell_type": "code",
   "execution_count": 9,
   "id": "25d32f27",
   "metadata": {},
   "outputs": [
    {
     "data": {
      "text/plain": [
       "array([1., 2., 5.])"
      ]
     },
     "execution_count": 9,
     "metadata": {},
     "output_type": "execute_result"
    }
   ],
   "source": [
    "np.array([1, 2, 5], np.float64)"
   ]
  },
  {
   "cell_type": "markdown",
   "id": "130c5772",
   "metadata": {},
   "source": [
    "Или даже"
   ]
  },
  {
   "cell_type": "code",
   "execution_count": 10,
   "id": "cebf3f30",
   "metadata": {},
   "outputs": [
    {
     "name": "stdout",
     "output_type": "stream",
     "text": [
      "1 2 3 4\n"
     ]
    },
    {
     "data": {
      "text/plain": [
       "array([1., 2., 3., 4.])"
      ]
     },
     "execution_count": 10,
     "metadata": {},
     "output_type": "execute_result"
    }
   ],
   "source": [
    "np.array(input().split(), float)"
   ]
  },
  {
   "cell_type": "markdown",
   "id": "32d4cc8d",
   "metadata": {},
   "source": [
    "## Операции над массивами"
   ]
  },
  {
   "cell_type": "markdown",
   "id": "581f6f68",
   "metadata": {},
   "source": [
    "В **NumPy** нам доступны все стандартные математические операции над массивами - от суммы векторов до произведения матриц."
   ]
  },
  {
   "cell_type": "markdown",
   "id": "e597cad2",
   "metadata": {},
   "source": [
    "Умножение на число:"
   ]
  },
  {
   "cell_type": "code",
   "execution_count": 11,
   "id": "807fb963",
   "metadata": {},
   "outputs": [
    {
     "data": {
      "text/plain": [
       "array([2, 4, 6])"
      ]
     },
     "execution_count": 11,
     "metadata": {},
     "output_type": "execute_result"
    }
   ],
   "source": [
    "a = np.array([1, 2, 3])\n",
    "a * 2"
   ]
  },
  {
   "cell_type": "markdown",
   "id": "1fcb637a",
   "metadata": {},
   "source": [
    "Сравните с тем, как работает эта операция со стандартными списками:"
   ]
  },
  {
   "cell_type": "code",
   "execution_count": 12,
   "id": "34876813",
   "metadata": {},
   "outputs": [
    {
     "data": {
      "text/plain": [
       "[1, 2, 3, 1, 2, 3]"
      ]
     },
     "execution_count": 12,
     "metadata": {},
     "output_type": "execute_result"
    }
   ],
   "source": [
    "[1, 2, 3] * 2"
   ]
  },
  {
   "cell_type": "markdown",
   "id": "6287f127",
   "metadata": {},
   "source": [
    "Аналогично работает и деление на число, а также и остальные арифметические операции массива с числом - поэлементно.\n",
    "Также естественно работает сложение векторов:"
   ]
  },
  {
   "cell_type": "code",
   "execution_count": 13,
   "id": "9b314a38",
   "metadata": {},
   "outputs": [
    {
     "data": {
      "text/plain": [
       "array([4, 4, 4])"
      ]
     },
     "execution_count": 13,
     "metadata": {},
     "output_type": "execute_result"
    }
   ],
   "source": [
    "np.array([1, 2, 3]) + np.array([3, 2, 1])"
   ]
  },
  {
   "cell_type": "markdown",
   "id": "5a70fd52",
   "metadata": {},
   "source": [
    "Однако, умножение оператором `*` не является ни скалярным, ни векторным произведением. Напротив, `*` работает также как и `+` и все остальные арифметичекие операторы - поэлементно:"
   ]
  },
  {
   "cell_type": "code",
   "execution_count": 14,
   "id": "86d5ca2e",
   "metadata": {},
   "outputs": [
    {
     "data": {
      "text/plain": [
       "array([2, 4, 3])"
      ]
     },
     "execution_count": 14,
     "metadata": {},
     "output_type": "execute_result"
    }
   ],
   "source": [
    "np.array([1, 2, 3]) * np.array([2, 2, 1])"
   ]
  },
  {
   "cell_type": "markdown",
   "id": "4a23e107",
   "metadata": {},
   "source": [
    "Для вычисления скалярного произведения есть метод `.dot()` у массивов, например `a.dot(b)`. Векторное произведенией записывается как `np.cross(a, b)`, а длину вектора можно вычислить как `np.linalg.norm(a)`.\n",
    "Итак, теперь вы во всеоружии, пришло время размяться:"
   ]
  },
  {
   "cell_type": "markdown",
   "id": "0f93fc2e",
   "metadata": {},
   "source": [
    "### Упражнение 1"
   ]
  },
  {
   "cell_type": "markdown",
   "id": "9307c880",
   "metadata": {},
   "source": [
    "На плоскости расположено несколько маленьких шариков разных масс. Пользователь задает их координаты (на плоскости) и массы. Выведите координты центра масс всей системы. Формат ввода организуйте на свой вкус."
   ]
  },
  {
   "cell_type": "code",
   "execution_count": 23,
   "id": "171710e5",
   "metadata": {},
   "outputs": [
    {
     "name": "stdout",
     "output_type": "stream",
     "text": [
      "[2. 2. 2.]\n"
     ]
    }
   ],
   "source": [
    "R=[np.array([0,0,0]),np.array([6,6,6])]\n",
    "M=[10,5]\n",
    "C=sum( m*r for m,r in zip(M,R))\n",
    "C=C/sum(M)\n",
    "print(C)"
   ]
  },
  {
   "cell_type": "markdown",
   "id": "faf0fd7a",
   "metadata": {},
   "source": [
    "### Упражнение 2"
   ]
  },
  {
   "cell_type": "markdown",
   "id": "98800cff",
   "metadata": {},
   "source": [
    "Свет падает на плоскость в направлении заданным вектором L (в 3-мерном пространстве). Сама плоскость задана тремя точками A, B и C, через которые она проходит. Найдите вектор отраженного света. Пользователь вводит L, A, B и C, в виде троек чисел - координат через пробел, каждый вектор в новой строке."
   ]
  },
  {
   "cell_type": "code",
   "execution_count": 35,
   "id": "75335e6f",
   "metadata": {},
   "outputs": [
    {
     "name": "stdout",
     "output_type": "stream",
     "text": [
      "0 0 1\n",
      "9 8 4\n",
      "8 2 4\n",
      "1 6 4\n"
     ]
    },
    {
     "data": {
      "text/latex": [
       "$\\displaystyle \\begin{pmatrix}0.0\\\\0.0\\\\-1.0\\end{pmatrix}$"
      ],
      "text/plain": [
       "<IPython.core.display.Math object>"
      ]
     },
     "metadata": {},
     "output_type": "display_data"
    }
   ],
   "source": [
    "def showvec(mat):\n",
    "    tex = r'\\begin{pmatrix}' + r'\\\\'.join(str(row) for row in mat) + r'\\end{pmatrix}'\n",
    "    IPython.display.display(IPython.display.Math(tex))\n",
    "    \n",
    "#def psevdodet(P,x,y):\n",
    "#    return np.linalg.det(np.array(([P[1][x]-P[0][x],P[1][y]-P[0][y]],[P[2][x]-P[0][x],P[2][y]-P[0][y]])))\n",
    "\n",
    "def normal(P): #np.cross(a, b)\n",
    "    #_NORM=np.array([psevdodet(P,1,2),-psevdodet(P,0,2),psevdodet(P,0,1)])#[np.linalg.det(np.array(([P[1][1]-P[0][1],P[1][2]-P[0][2]],[P[2][1]-P[0][1],P[2][2]-P[0][2]]))),-1*np.linalg.det(np.array(([P[1][0]-P[0][0],P[1][2]-P[0][2]],[P[2][0]-P[0][0],P[2][2]-P[0][2]]))), np.linalg.det(np.array(([P[1][0]-P[0][0],P[1][1]-P[0][1]],[P[2][0]-P[0][0],P[2][1]-P[0][1]])))] )\n",
    "    _LENG=np.linalg.norm(_NORM)\n",
    "    for i in range(3):\n",
    "        _NORM[i]/=_LENG\n",
    "    return _NORM\n",
    "\n",
    "L=np.array(input().split(), float)\n",
    "abc=np.array((np.array(input().split(), float),np.array(input().split(), float),np.array(input().split(), float)))#np.array((np.array(input().split(), float),np.array(input().split(), float),np.array(input().split(), float)))\n",
    "n=normal(abc)\n",
    "L1=L-2*(n.dot(L)*n);\n",
    "#normComp=n.dot(L)*n;\n",
    "#tangComp=L-normComp\n",
    "#normComp=-normComp\n",
    "#L1=normComp+tangComp\n",
    "showvec(L1)"
   ]
  },
  {
   "cell_type": "markdown",
   "id": "f687a8fa",
   "metadata": {},
   "source": [
    "## Также, **NumPy** предоставляет нам привычные оперции над матрицами:\n",
    "- `np.linalg.det(a)` - определитель матрицы `a`\n",
    "- `a.T` - транспонированная матрица\n",
    "- `np.matmul(a, b)` - произведение матриц"
   ]
  },
  {
   "cell_type": "code",
   "execution_count": 40,
   "id": "eea1fb40",
   "metadata": {},
   "outputs": [
    {
     "data": {
      "text/latex": [
       "$\\displaystyle \\begin{pmatrix}1&2\\\\3&4\\end{pmatrix}$"
      ],
      "text/plain": [
       "<IPython.core.display.Math object>"
      ]
     },
     "metadata": {},
     "output_type": "display_data"
    },
    {
     "data": {
      "text/latex": [
       "$\\displaystyle \\begin{pmatrix}1&3\\\\2&4\\end{pmatrix}$"
      ],
      "text/plain": [
       "<IPython.core.display.Math object>"
      ]
     },
     "metadata": {},
     "output_type": "display_data"
    },
    {
     "data": {
      "text/latex": [
       "$\\displaystyle \\begin{pmatrix}1&3\\\\10&4\\end{pmatrix}$"
      ],
      "text/plain": [
       "<IPython.core.display.Math object>"
      ]
     },
     "metadata": {},
     "output_type": "display_data"
    },
    {
     "data": {
      "text/latex": [
       "$\\displaystyle \\begin{pmatrix}1&10\\\\3&4\\end{pmatrix}$"
      ],
      "text/plain": [
       "<IPython.core.display.Math object>"
      ]
     },
     "metadata": {},
     "output_type": "display_data"
    }
   ],
   "source": [
    "a = np.array([[1, 2], [3, 4]])\n",
    "show(a)\n",
    "b = a.T\n",
    "show(b)\n",
    "b[1][0] = 10\n",
    "show(b)\n",
    "show(a)"
   ]
  },
  {
   "cell_type": "markdown",
   "id": "cd85aec3",
   "metadata": {},
   "source": [
    "Обратите внимание, при изменении элемента `b`, матрица `a` тоже изменилась. Это потому, что `a.T` не создает новой матрицы, а лишь предоставляет доступ к имеющимся данным \"по-другому\"."
   ]
  },
  {
   "cell_type": "markdown",
   "id": "deb248e1",
   "metadata": {},
   "source": [
    "### Упражнение 3"
   ]
  },
  {
   "cell_type": "markdown",
   "id": "d0b24d4c",
   "metadata": {},
   "source": [
    "Пользователь вводит две квадратные матрицы 3x3. Посчитайте их произведение без использования numpy. Затем с помощью `np.matmul()`. Выведите оба результата."
   ]
  },
  {
   "cell_type": "code",
   "execution_count": 14,
   "id": "3728c788",
   "metadata": {},
   "outputs": [
    {
     "name": "stdout",
     "output_type": "stream",
     "text": [
      "1 2 3\n",
      "2 3 4\n",
      "3 4 5\n",
      "5 6 7\n",
      "6 7 8\n",
      "7 8 9\n"
     ]
    },
    {
     "data": {
      "text/latex": [
       "$\\displaystyle \\begin{pmatrix}5.0&6.0&7.0\\\\6.0&7.0&8.0\\\\7.0&8.0&9.0\\end{pmatrix}$"
      ],
      "text/plain": [
       "<IPython.core.display.Math object>"
      ]
     },
     "metadata": {},
     "output_type": "display_data"
    },
    {
     "data": {
      "text/latex": [
       "$\\displaystyle \\begin{pmatrix}38.0&44.0&50.0\\\\56.0&65.0&74.0\\\\74.0&86.0&98.0\\end{pmatrix}$"
      ],
      "text/plain": [
       "<IPython.core.display.Math object>"
      ]
     },
     "metadata": {},
     "output_type": "display_data"
    },
    {
     "data": {
      "text/latex": [
       "$\\displaystyle \\begin{pmatrix}38.0&44.0&50.0\\\\56.0&65.0&74.0\\\\74.0&86.0&98.0\\end{pmatrix}$"
      ],
      "text/plain": [
       "<IPython.core.display.Math object>"
      ]
     },
     "metadata": {},
     "output_type": "display_data"
    }
   ],
   "source": [
    "A=np.array([np.array(input().split(), float) for _ in range(3)])\n",
    "#A=np.array((np.array(input().split(), float),np.array(input().split(), float),np.array(input().split(), float)))\n",
    "B=np.array((np.array(input().split(), float),np.array(input().split(), float),np.array(input().split(), float)))\n",
    "C=np.zeros((3,3))\n",
    "for i in range(3):\n",
    "    for j in range(3):\n",
    "        for k in range(3):\n",
    "            C[i][j]+=A[i][k]*B[k][j]\n",
    "show(C)\n",
    "show(np.matmul(A,B))"
   ]
  },
  {
   "cell_type": "markdown",
   "id": "18bd298d",
   "metadata": {},
   "source": [
    "# Matplotlib"
   ]
  },
  {
   "cell_type": "markdown",
   "id": "477f81f8",
   "metadata": {},
   "source": [
    "Построение графика по точкам:"
   ]
  },
  {
   "cell_type": "code",
   "execution_count": 37,
   "id": "4a407128",
   "metadata": {},
   "outputs": [
    {
     "data": {
      "image/png": "[encoded data removed]",
      "text/plain": [
       "<Figure size 432x288 with 1 Axes>"
      ]
     },
     "metadata": {
      "needs_background": "light"
     },
     "output_type": "display_data"
    }
   ],
   "source": [
    "import matplotlib.pyplot as plt\n",
    "plt.plot([1, 2, 3, 4, 5], [3, 2, 3, 4, 4])\n",
    "plt.show()"
   ]
  },
  {
   "cell_type": "markdown",
   "id": "731927d4",
   "metadata": {},
   "source": [
    "Что ж, построим что-нибудь поинтереснее. Для этого нам понадобятся две новые фишки `numpy`:\n",
    "`np.linspace(a, b, n)` - создает возрастающий массив чисел от `a` до `b` через равные промежутки из `n` элементов - то что нам нужно для оси X.\n",
    "`np.vectorize(f)` - создает новую функцию, которая умеет преобразовывать вектор целиком, применяя к каждому элементу функцию `f`."
   ]
  },
  {
   "cell_type": "code",
   "execution_count": 50,
   "id": "2a0dd694",
   "metadata": {},
   "outputs": [
    {
     "data": {
      "image/png": "[encoded data removed]",
      "text/plain": [
       "<Figure size 432x288 with 1 Axes>"
      ]
     },
     "metadata": {
      "needs_background": "light"
     },
     "output_type": "display_data"
    }
   ],
   "source": [
    "import math\n",
    "x = np.linspace(-5, 5, 100)\n",
    "y = np.vectorize(math.sin)(x)\n",
    "\n",
    "# Заодно, добавим некоторые дополнительные элементы:\n",
    "plt.title('График функции y = sin(x)')  # заголовок\n",
    "plt.xlabel('x')  # ось абсцисс\n",
    "plt.ylabel('y')  # ось ординат\n",
    "plt.grid() # включение отображение сетки\n",
    "plt.axis('equal') # выровнять масштаб по осям (попробуйте закомментировать)\n",
    "\n",
    "plt.plot(x, y)\n",
    "plt.show()"
   ]
  },
  {
   "cell_type": "markdown",
   "id": "510aa417",
   "metadata": {},
   "source": [
    "### Упражнение 4"
   ]
  },
  {
   "cell_type": "markdown",
   "id": "ff25b8fa",
   "metadata": {},
   "source": [
    "С помощью matplotlib нарисуйте график функции $y(x) = 10x^3 + 2x^2 - x$"
   ]
  },
  {
   "cell_type": "code",
   "execution_count": 40,
   "id": "80cf2bd8",
   "metadata": {},
   "outputs": [
    {
     "data": {
      "image/png": "[encoded data removed]",
      "text/plain": [
       "<Figure size 432x288 with 1 Axes>"
      ]
     },
     "metadata": {
      "needs_background": "light"
     },
     "output_type": "display_data"
    }
   ],
   "source": [
    "def y4(x):\n",
    "    return 10*x**3+2*x**2-x\n",
    "x = np.linspace(-5, 5, 100)\n",
    "y=np.vectorize(y4)(x)\n",
    "plt.xlabel('x')  # ось абсцисс\n",
    "plt.ylabel('y')  # ось ординат\n",
    "plt.grid() # включение отображение сетки\n",
    "plt.title(\"У4\")\n",
    "plt.plot(x, y)\n",
    "plt.show()"
   ]
  },
  {
   "cell_type": "markdown",
   "id": "b05c0e0a",
   "metadata": {},
   "source": [
    "### Упражнение 5\n",
    "С помощью matplotlib нарисуйте спираль"
   ]
  },
  {
   "cell_type": "code",
   "execution_count": 85,
   "id": "8ca7bc66",
   "metadata": {},
   "outputs": [
    {
     "data": {
      "text/plain": [
       "[<matplotlib.lines.Line2D at 0x7f2284259070>]"
      ]
     },
     "execution_count": 85,
     "metadata": {},
     "output_type": "execute_result"
    },
    {
     "data": {
      "image/png": "[encoded data removed]",
      "text/plain": [
       "<Figure size 432x288 with 1 Axes>"
      ]
     },
     "metadata": {
      "needs_background": "light"
     },
     "output_type": "display_data"
    }
   ],
   "source": [
    "def rr5(x):\n",
    "    return 0.3*x\n",
    "\n",
    "fi = np.linspace(0, 15, 100)\n",
    "rad=np.vectorize(rr5)(fi)\n",
    "plt.subplot(projection='polar').plot(fi, rad)\n"
   ]
  },
  {
   "cell_type": "markdown",
   "id": "999ea772",
   "metadata": {},
   "source": [
    "### Точечная диаграмма\n",
    "Познакомимся с двумя новыми функциями:\n",
    "\n",
    "`numpy.random.rand(n)` - случайный вектор из `n` элементов\n",
    "\n",
    "`matplotlib.pyplot.scatter(x, y, ...)` - рисуем точки, точнее круги. Некоторые аргументы:\n",
    "\n",
    "   - `x` - массив x-координат\n",
    "   - `y` - массив y-координат\n",
    "   - `s` - массив площадей кругов\n",
    "   - `c` - массив цветов\n",
    "   - `alpha` - степень прозрачности кругов"
   ]
  },
  {
   "cell_type": "code",
   "execution_count": 63,
   "id": "65f7fe27",
   "metadata": {},
   "outputs": [
    {
     "data": {
      "image/png": "[encoded data removed]",
      "text/plain": [
       "<Figure size 432x288 with 1 Axes>"
      ]
     },
     "metadata": {
      "needs_background": "light"
     },
     "output_type": "display_data"
    }
   ],
   "source": [
    "n = 50\n",
    "x = np.random.rand(n)\n",
    "y = np.random.rand(n)\n",
    "colors = np.random.rand(n)\n",
    "sq = 30#(30 * np.random.rand(n)) ** 2\n",
    "\n",
    "plt.scatter(x, y, s=sq, c=colors, alpha=0.5)\n",
    "plt.show()"
   ]
  },
  {
   "cell_type": "markdown",
   "id": "f2aa735a",
   "metadata": {},
   "source": [
    "### Упражнение 6\n",
    "В Python можно легко работать с комплексными числами. Например, число $1+2i$ записывается как `1 + 2j`, или `complex(1, 2)`. Действительную часть комплексного числа можно получить как `x.real`, а комплексную - `x.imag`. Постройте на плоскости последовательность точек, заданную рекурсивной формулой $z_{n+1} = z_n^2 + c$ где $c$ - некоторая комплексная константа (пусть ее задает пользователь) а $z_0 = 0$. Точки плоскости $c$, для которых данная последовательность ограничена, образуют известный фрактал - [множество Мандельброта](https://ru.wikipedia.org/wiki/%D0%9C%D0%BD%D0%BE%D0%B6%D0%B5%D1%81%D1%82%D0%B2%D0%BE_%D0%9C%D0%B0%D0%BD%D0%B4%D0%B5%D0%BB%D1%8C%D0%B1%D1%80%D0%BE%D1%82%D0%B0)."
   ]
  },
  {
   "cell_type": "code",
   "execution_count": 69,
   "id": "38161241",
   "metadata": {},
   "outputs": [
    {
     "ename": "ValueError",
     "evalue": "0.0 is not a valid value for color",
     "output_type": "error",
     "traceback": [
      "\u001b[0;31m---------------------------------------------------------------------------\u001b[0m",
      "\u001b[0;31mValueError\u001b[0m                                Traceback (most recent call last)",
      "\u001b[0;32m/tmp/ipykernel_13651/3526902003.py\u001b[0m in \u001b[0;36m<module>\u001b[0;34m\u001b[0m\n\u001b[1;32m     23\u001b[0m         \u001b[0;31m#plt.show()\u001b[0m\u001b[0;34m\u001b[0m\u001b[0;34m\u001b[0m\u001b[0;34m\u001b[0m\u001b[0m\n\u001b[1;32m     24\u001b[0m         \u001b[0;32mfor\u001b[0m \u001b[0mh\u001b[0m \u001b[0;32min\u001b[0m \u001b[0mrange\u001b[0m\u001b[0;34m(\u001b[0m\u001b[0mn\u001b[0m\u001b[0;34m)\u001b[0m\u001b[0;34m:\u001b[0m\u001b[0;34m\u001b[0m\u001b[0;34m\u001b[0m\u001b[0m\n\u001b[0;32m---> 25\u001b[0;31m             \u001b[0mplt\u001b[0m\u001b[0;34m.\u001b[0m\u001b[0mplot\u001b[0m\u001b[0;34m(\u001b[0m\u001b[0mz\u001b[0m\u001b[0;34m[\u001b[0m\u001b[0mh\u001b[0m\u001b[0;34m]\u001b[0m\u001b[0;34m.\u001b[0m\u001b[0mreal\u001b[0m\u001b[0;34m,\u001b[0m \u001b[0mz\u001b[0m\u001b[0;34m[\u001b[0m\u001b[0mh\u001b[0m\u001b[0;34m]\u001b[0m\u001b[0;34m.\u001b[0m\u001b[0mimag\u001b[0m\u001b[0;34m,\u001b[0m \u001b[0mmarker\u001b[0m\u001b[0;34m=\u001b[0m\u001b[0;34m'o'\u001b[0m\u001b[0;34m,\u001b[0m \u001b[0mls\u001b[0m\u001b[0;34m=\u001b[0m\u001b[0;34m''\u001b[0m\u001b[0;34m,\u001b[0m \u001b[0mc\u001b[0m\u001b[0;34m=\u001b[0m\u001b[0mfloat\u001b[0m\u001b[0;34m(\u001b[0m\u001b[0mcolors\u001b[0m\u001b[0;34m[\u001b[0m\u001b[0mh\u001b[0m\u001b[0;34m]\u001b[0m\u001b[0;34m)\u001b[0m\u001b[0;34m,\u001b[0m \u001b[0mmarkersize\u001b[0m\u001b[0;34m=\u001b[0m\u001b[0;36m5\u001b[0m\u001b[0;34m)\u001b[0m\u001b[0;34m\u001b[0m\u001b[0;34m\u001b[0m\u001b[0m\n\u001b[0m",
      "\u001b[0;32m/opt/rh/rh-python38/root/usr/local/lib64/python3.8/site-packages/matplotlib/pyplot.py\u001b[0m in \u001b[0;36mplot\u001b[0;34m(scalex, scaley, data, *args, **kwargs)\u001b[0m\n\u001b[1;32m   3017\u001b[0m \u001b[0;34m@\u001b[0m\u001b[0m_copy_docstring_and_deprecators\u001b[0m\u001b[0;34m(\u001b[0m\u001b[0mAxes\u001b[0m\u001b[0;34m.\u001b[0m\u001b[0mplot\u001b[0m\u001b[0;34m)\u001b[0m\u001b[0;34m\u001b[0m\u001b[0;34m\u001b[0m\u001b[0m\n\u001b[1;32m   3018\u001b[0m \u001b[0;32mdef\u001b[0m \u001b[0mplot\u001b[0m\u001b[0;34m(\u001b[0m\u001b[0;34m*\u001b[0m\u001b[0margs\u001b[0m\u001b[0;34m,\u001b[0m \u001b[0mscalex\u001b[0m\u001b[0;34m=\u001b[0m\u001b[0;32mTrue\u001b[0m\u001b[0;34m,\u001b[0m \u001b[0mscaley\u001b[0m\u001b[0;34m=\u001b[0m\u001b[0;32mTrue\u001b[0m\u001b[0;34m,\u001b[0m \u001b[0mdata\u001b[0m\u001b[0;34m=\u001b[0m\u001b[0;32mNone\u001b[0m\u001b[0;34m,\u001b[0m \u001b[0;34m**\u001b[0m\u001b[0mkwargs\u001b[0m\u001b[0;34m)\u001b[0m\u001b[0;34m:\u001b[0m\u001b[0;34m\u001b[0m\u001b[0;34m\u001b[0m\u001b[0m\n\u001b[0;32m-> 3019\u001b[0;31m     return gca().plot(\n\u001b[0m\u001b[1;32m   3020\u001b[0m         \u001b[0;34m*\u001b[0m\u001b[0margs\u001b[0m\u001b[0;34m,\u001b[0m \u001b[0mscalex\u001b[0m\u001b[0;34m=\u001b[0m\u001b[0mscalex\u001b[0m\u001b[0;34m,\u001b[0m \u001b[0mscaley\u001b[0m\u001b[0;34m=\u001b[0m\u001b[0mscaley\u001b[0m\u001b[0;34m,\u001b[0m\u001b[0;34m\u001b[0m\u001b[0;34m\u001b[0m\u001b[0m\n\u001b[1;32m   3021\u001b[0m         **({\"data\": data} if data is not None else {}), **kwargs)\n",
      "\u001b[0;32m/opt/rh/rh-python38/root/usr/local/lib64/python3.8/site-packages/matplotlib/axes/_axes.py\u001b[0m in \u001b[0;36mplot\u001b[0;34m(self, scalex, scaley, data, *args, **kwargs)\u001b[0m\n\u001b[1;32m   1603\u001b[0m         \"\"\"\n\u001b[1;32m   1604\u001b[0m         \u001b[0mkwargs\u001b[0m \u001b[0;34m=\u001b[0m \u001b[0mcbook\u001b[0m\u001b[0;34m.\u001b[0m\u001b[0mnormalize_kwargs\u001b[0m\u001b[0;34m(\u001b[0m\u001b[0mkwargs\u001b[0m\u001b[0;34m,\u001b[0m \u001b[0mmlines\u001b[0m\u001b[0;34m.\u001b[0m\u001b[0mLine2D\u001b[0m\u001b[0;34m)\u001b[0m\u001b[0;34m\u001b[0m\u001b[0;34m\u001b[0m\u001b[0m\n\u001b[0;32m-> 1605\u001b[0;31m         \u001b[0mlines\u001b[0m \u001b[0;34m=\u001b[0m \u001b[0;34m[\u001b[0m\u001b[0;34m*\u001b[0m\u001b[0mself\u001b[0m\u001b[0;34m.\u001b[0m\u001b[0m_get_lines\u001b[0m\u001b[0;34m(\u001b[0m\u001b[0;34m*\u001b[0m\u001b[0margs\u001b[0m\u001b[0;34m,\u001b[0m \u001b[0mdata\u001b[0m\u001b[0;34m=\u001b[0m\u001b[0mdata\u001b[0m\u001b[0;34m,\u001b[0m \u001b[0;34m**\u001b[0m\u001b[0mkwargs\u001b[0m\u001b[0;34m)\u001b[0m\u001b[0;34m]\u001b[0m\u001b[0;34m\u001b[0m\u001b[0;34m\u001b[0m\u001b[0m\n\u001b[0m\u001b[1;32m   1606\u001b[0m         \u001b[0;32mfor\u001b[0m \u001b[0mline\u001b[0m \u001b[0;32min\u001b[0m \u001b[0mlines\u001b[0m\u001b[0;34m:\u001b[0m\u001b[0;34m\u001b[0m\u001b[0;34m\u001b[0m\u001b[0m\n\u001b[1;32m   1607\u001b[0m             \u001b[0mself\u001b[0m\u001b[0;34m.\u001b[0m\u001b[0madd_line\u001b[0m\u001b[0;34m(\u001b[0m\u001b[0mline\u001b[0m\u001b[0;34m)\u001b[0m\u001b[0;34m\u001b[0m\u001b[0;34m\u001b[0m\u001b[0m\n",
      "\u001b[0;32m/opt/rh/rh-python38/root/usr/local/lib64/python3.8/site-packages/matplotlib/axes/_base.py\u001b[0m in \u001b[0;36m__call__\u001b[0;34m(self, data, *args, **kwargs)\u001b[0m\n\u001b[1;32m    313\u001b[0m                 \u001b[0mthis\u001b[0m \u001b[0;34m+=\u001b[0m \u001b[0margs\u001b[0m\u001b[0;34m[\u001b[0m\u001b[0;36m0\u001b[0m\u001b[0;34m]\u001b[0m\u001b[0;34m,\u001b[0m\u001b[0;34m\u001b[0m\u001b[0;34m\u001b[0m\u001b[0m\n\u001b[1;32m    314\u001b[0m                 \u001b[0margs\u001b[0m \u001b[0;34m=\u001b[0m \u001b[0margs\u001b[0m\u001b[0;34m[\u001b[0m\u001b[0;36m1\u001b[0m\u001b[0;34m:\u001b[0m\u001b[0;34m]\u001b[0m\u001b[0;34m\u001b[0m\u001b[0;34m\u001b[0m\u001b[0m\n\u001b[0;32m--> 315\u001b[0;31m             \u001b[0;32myield\u001b[0m \u001b[0;32mfrom\u001b[0m \u001b[0mself\u001b[0m\u001b[0;34m.\u001b[0m\u001b[0m_plot_args\u001b[0m\u001b[0;34m(\u001b[0m\u001b[0mthis\u001b[0m\u001b[0;34m,\u001b[0m \u001b[0mkwargs\u001b[0m\u001b[0;34m)\u001b[0m\u001b[0;34m\u001b[0m\u001b[0;34m\u001b[0m\u001b[0m\n\u001b[0m\u001b[1;32m    316\u001b[0m \u001b[0;34m\u001b[0m\u001b[0m\n\u001b[1;32m    317\u001b[0m     \u001b[0;32mdef\u001b[0m \u001b[0mget_next_color\u001b[0m\u001b[0;34m(\u001b[0m\u001b[0mself\u001b[0m\u001b[0;34m)\u001b[0m\u001b[0;34m:\u001b[0m\u001b[0;34m\u001b[0m\u001b[0;34m\u001b[0m\u001b[0m\n",
      "\u001b[0;32m/opt/rh/rh-python38/root/usr/local/lib64/python3.8/site-packages/matplotlib/axes/_base.py\u001b[0m in \u001b[0;36m_plot_args\u001b[0;34m(self, tup, kwargs, return_kwargs)\u001b[0m\n\u001b[1;32m    537\u001b[0m             \u001b[0;32mreturn\u001b[0m \u001b[0mlist\u001b[0m\u001b[0;34m(\u001b[0m\u001b[0mresult\u001b[0m\u001b[0;34m)\u001b[0m\u001b[0;34m\u001b[0m\u001b[0;34m\u001b[0m\u001b[0m\n\u001b[1;32m    538\u001b[0m         \u001b[0;32melse\u001b[0m\u001b[0;34m:\u001b[0m\u001b[0;34m\u001b[0m\u001b[0;34m\u001b[0m\u001b[0m\n\u001b[0;32m--> 539\u001b[0;31m             \u001b[0;32mreturn\u001b[0m \u001b[0;34m[\u001b[0m\u001b[0ml\u001b[0m\u001b[0;34m[\u001b[0m\u001b[0;36m0\u001b[0m\u001b[0;34m]\u001b[0m \u001b[0;32mfor\u001b[0m \u001b[0ml\u001b[0m \u001b[0;32min\u001b[0m \u001b[0mresult\u001b[0m\u001b[0;34m]\u001b[0m\u001b[0;34m\u001b[0m\u001b[0;34m\u001b[0m\u001b[0m\n\u001b[0m\u001b[1;32m    540\u001b[0m \u001b[0;34m\u001b[0m\u001b[0m\n\u001b[1;32m    541\u001b[0m \u001b[0;34m\u001b[0m\u001b[0m\n",
      "\u001b[0;32m/opt/rh/rh-python38/root/usr/local/lib64/python3.8/site-packages/matplotlib/axes/_base.py\u001b[0m in \u001b[0;36m<listcomp>\u001b[0;34m(.0)\u001b[0m\n\u001b[1;32m    537\u001b[0m             \u001b[0;32mreturn\u001b[0m \u001b[0mlist\u001b[0m\u001b[0;34m(\u001b[0m\u001b[0mresult\u001b[0m\u001b[0;34m)\u001b[0m\u001b[0;34m\u001b[0m\u001b[0;34m\u001b[0m\u001b[0m\n\u001b[1;32m    538\u001b[0m         \u001b[0;32melse\u001b[0m\u001b[0;34m:\u001b[0m\u001b[0;34m\u001b[0m\u001b[0;34m\u001b[0m\u001b[0m\n\u001b[0;32m--> 539\u001b[0;31m             \u001b[0;32mreturn\u001b[0m \u001b[0;34m[\u001b[0m\u001b[0ml\u001b[0m\u001b[0;34m[\u001b[0m\u001b[0;36m0\u001b[0m\u001b[0;34m]\u001b[0m \u001b[0;32mfor\u001b[0m \u001b[0ml\u001b[0m \u001b[0;32min\u001b[0m \u001b[0mresult\u001b[0m\u001b[0;34m]\u001b[0m\u001b[0;34m\u001b[0m\u001b[0;34m\u001b[0m\u001b[0m\n\u001b[0m\u001b[1;32m    540\u001b[0m \u001b[0;34m\u001b[0m\u001b[0m\n\u001b[1;32m    541\u001b[0m \u001b[0;34m\u001b[0m\u001b[0m\n",
      "\u001b[0;32m/opt/rh/rh-python38/root/usr/local/lib64/python3.8/site-packages/matplotlib/axes/_base.py\u001b[0m in \u001b[0;36m<genexpr>\u001b[0;34m(.0)\u001b[0m\n\u001b[1;32m    530\u001b[0m             \u001b[0mlabels\u001b[0m \u001b[0;34m=\u001b[0m \u001b[0;34m[\u001b[0m\u001b[0mlabel\u001b[0m\u001b[0;34m]\u001b[0m \u001b[0;34m*\u001b[0m \u001b[0mn_datasets\u001b[0m\u001b[0;34m\u001b[0m\u001b[0;34m\u001b[0m\u001b[0m\n\u001b[1;32m    531\u001b[0m \u001b[0;34m\u001b[0m\u001b[0m\n\u001b[0;32m--> 532\u001b[0;31m         result = (make_artist(x[:, j % ncx], y[:, j % ncy], kw,\n\u001b[0m\u001b[1;32m    533\u001b[0m                               {**kwargs, 'label': label})\n\u001b[1;32m    534\u001b[0m                   for j, label in enumerate(labels))\n",
      "\u001b[0;32m/opt/rh/rh-python38/root/usr/local/lib64/python3.8/site-packages/matplotlib/axes/_base.py\u001b[0m in \u001b[0;36m_makeline\u001b[0;34m(self, x, y, kw, kwargs)\u001b[0m\n\u001b[1;32m    352\u001b[0m         \u001b[0mdefault_dict\u001b[0m \u001b[0;34m=\u001b[0m \u001b[0mself\u001b[0m\u001b[0;34m.\u001b[0m\u001b[0m_getdefaults\u001b[0m\u001b[0;34m(\u001b[0m\u001b[0mset\u001b[0m\u001b[0;34m(\u001b[0m\u001b[0;34m)\u001b[0m\u001b[0;34m,\u001b[0m \u001b[0mkw\u001b[0m\u001b[0;34m)\u001b[0m\u001b[0;34m\u001b[0m\u001b[0;34m\u001b[0m\u001b[0m\n\u001b[1;32m    353\u001b[0m         \u001b[0mself\u001b[0m\u001b[0;34m.\u001b[0m\u001b[0m_setdefaults\u001b[0m\u001b[0;34m(\u001b[0m\u001b[0mdefault_dict\u001b[0m\u001b[0;34m,\u001b[0m \u001b[0mkw\u001b[0m\u001b[0;34m)\u001b[0m\u001b[0;34m\u001b[0m\u001b[0;34m\u001b[0m\u001b[0m\n\u001b[0;32m--> 354\u001b[0;31m         \u001b[0mseg\u001b[0m \u001b[0;34m=\u001b[0m \u001b[0mmlines\u001b[0m\u001b[0;34m.\u001b[0m\u001b[0mLine2D\u001b[0m\u001b[0;34m(\u001b[0m\u001b[0mx\u001b[0m\u001b[0;34m,\u001b[0m \u001b[0my\u001b[0m\u001b[0;34m,\u001b[0m \u001b[0;34m**\u001b[0m\u001b[0mkw\u001b[0m\u001b[0;34m)\u001b[0m\u001b[0;34m\u001b[0m\u001b[0;34m\u001b[0m\u001b[0m\n\u001b[0m\u001b[1;32m    355\u001b[0m         \u001b[0;32mreturn\u001b[0m \u001b[0mseg\u001b[0m\u001b[0;34m,\u001b[0m \u001b[0mkw\u001b[0m\u001b[0;34m\u001b[0m\u001b[0;34m\u001b[0m\u001b[0m\n\u001b[1;32m    356\u001b[0m \u001b[0;34m\u001b[0m\u001b[0m\n",
      "\u001b[0;32m/opt/rh/rh-python38/root/usr/local/lib64/python3.8/site-packages/matplotlib/lines.py\u001b[0m in \u001b[0;36m__init__\u001b[0;34m(self, xdata, ydata, linewidth, linestyle, color, marker, markersize, markeredgewidth, markeredgecolor, markerfacecolor, markerfacecoloralt, fillstyle, antialiased, dash_capstyle, solid_capstyle, dash_joinstyle, solid_joinstyle, pickradius, drawstyle, markevery, **kwargs)\u001b[0m\n\u001b[1;32m    372\u001b[0m \u001b[0;34m\u001b[0m\u001b[0m\n\u001b[1;32m    373\u001b[0m         \u001b[0mself\u001b[0m\u001b[0;34m.\u001b[0m\u001b[0m_color\u001b[0m \u001b[0;34m=\u001b[0m \u001b[0;32mNone\u001b[0m\u001b[0;34m\u001b[0m\u001b[0;34m\u001b[0m\u001b[0m\n\u001b[0;32m--> 374\u001b[0;31m         \u001b[0mself\u001b[0m\u001b[0;34m.\u001b[0m\u001b[0mset_color\u001b[0m\u001b[0;34m(\u001b[0m\u001b[0mcolor\u001b[0m\u001b[0;34m)\u001b[0m\u001b[0;34m\u001b[0m\u001b[0;34m\u001b[0m\u001b[0m\n\u001b[0m\u001b[1;32m    375\u001b[0m         \u001b[0mself\u001b[0m\u001b[0;34m.\u001b[0m\u001b[0m_marker\u001b[0m \u001b[0;34m=\u001b[0m \u001b[0mMarkerStyle\u001b[0m\u001b[0;34m(\u001b[0m\u001b[0mmarker\u001b[0m\u001b[0;34m,\u001b[0m \u001b[0mfillstyle\u001b[0m\u001b[0;34m)\u001b[0m\u001b[0;34m\u001b[0m\u001b[0;34m\u001b[0m\u001b[0m\n\u001b[1;32m    376\u001b[0m \u001b[0;34m\u001b[0m\u001b[0m\n",
      "\u001b[0;32m/opt/rh/rh-python38/root/usr/local/lib64/python3.8/site-packages/matplotlib/lines.py\u001b[0m in \u001b[0;36mset_color\u001b[0;34m(self, color)\u001b[0m\n\u001b[1;32m   1052\u001b[0m         \"\"\"\n\u001b[1;32m   1053\u001b[0m         \u001b[0;32mif\u001b[0m \u001b[0;32mnot\u001b[0m \u001b[0mcbook\u001b[0m\u001b[0;34m.\u001b[0m\u001b[0m_str_equal\u001b[0m\u001b[0;34m(\u001b[0m\u001b[0mcolor\u001b[0m\u001b[0;34m,\u001b[0m \u001b[0;34m'auto'\u001b[0m\u001b[0;34m)\u001b[0m\u001b[0;34m:\u001b[0m\u001b[0;34m\u001b[0m\u001b[0;34m\u001b[0m\u001b[0m\n\u001b[0;32m-> 1054\u001b[0;31m             \u001b[0mmcolors\u001b[0m\u001b[0;34m.\u001b[0m\u001b[0m_check_color_like\u001b[0m\u001b[0;34m(\u001b[0m\u001b[0mcolor\u001b[0m\u001b[0;34m=\u001b[0m\u001b[0mcolor\u001b[0m\u001b[0;34m)\u001b[0m\u001b[0;34m\u001b[0m\u001b[0;34m\u001b[0m\u001b[0m\n\u001b[0m\u001b[1;32m   1055\u001b[0m         \u001b[0mself\u001b[0m\u001b[0;34m.\u001b[0m\u001b[0m_color\u001b[0m \u001b[0;34m=\u001b[0m \u001b[0mcolor\u001b[0m\u001b[0;34m\u001b[0m\u001b[0;34m\u001b[0m\u001b[0m\n\u001b[1;32m   1056\u001b[0m         \u001b[0mself\u001b[0m\u001b[0;34m.\u001b[0m\u001b[0mstale\u001b[0m \u001b[0;34m=\u001b[0m \u001b[0;32mTrue\u001b[0m\u001b[0;34m\u001b[0m\u001b[0;34m\u001b[0m\u001b[0m\n",
      "\u001b[0;32m/opt/rh/rh-python38/root/usr/local/lib64/python3.8/site-packages/matplotlib/colors.py\u001b[0m in \u001b[0;36m_check_color_like\u001b[0;34m(**kwargs)\u001b[0m\n\u001b[1;32m    154\u001b[0m     \u001b[0;32mfor\u001b[0m \u001b[0mk\u001b[0m\u001b[0;34m,\u001b[0m \u001b[0mv\u001b[0m \u001b[0;32min\u001b[0m \u001b[0mkwargs\u001b[0m\u001b[0;34m.\u001b[0m\u001b[0mitems\u001b[0m\u001b[0;34m(\u001b[0m\u001b[0;34m)\u001b[0m\u001b[0;34m:\u001b[0m\u001b[0;34m\u001b[0m\u001b[0;34m\u001b[0m\u001b[0m\n\u001b[1;32m    155\u001b[0m         \u001b[0;32mif\u001b[0m \u001b[0;32mnot\u001b[0m \u001b[0mis_color_like\u001b[0m\u001b[0;34m(\u001b[0m\u001b[0mv\u001b[0m\u001b[0;34m)\u001b[0m\u001b[0;34m:\u001b[0m\u001b[0;34m\u001b[0m\u001b[0;34m\u001b[0m\u001b[0m\n\u001b[0;32m--> 156\u001b[0;31m             \u001b[0;32mraise\u001b[0m \u001b[0mValueError\u001b[0m\u001b[0;34m(\u001b[0m\u001b[0;34mf\"{v!r} is not a valid value for {k}\"\u001b[0m\u001b[0;34m)\u001b[0m\u001b[0;34m\u001b[0m\u001b[0;34m\u001b[0m\u001b[0m\n\u001b[0m\u001b[1;32m    157\u001b[0m \u001b[0;34m\u001b[0m\u001b[0m\n\u001b[1;32m    158\u001b[0m \u001b[0;34m\u001b[0m\u001b[0m\n",
      "\u001b[0;31mValueError\u001b[0m: 0.0 is not a valid value for color"
     ]
    },
    {
     "data": {
      "image/png": "[encoded data removed]",
      "text/plain": [
       "<Figure size 432x288 with 1 Axes>"
      ]
     },
     "metadata": {
      "needs_background": "light"
     },
     "output_type": "display_data"
    }
   ],
   "source": [
    "def mod(q):\n",
    "    return (q.real**2+q.imag**2)**0.5\n",
    "for i in np.linspace(-12, 3, 150):\n",
    "    for j in np.linspace(-6,6,120):\n",
    "        n = 1000#int(input())\n",
    "        c=i/10+j/10*1j#-0.5+0.5j#complex(input())\n",
    "        z=[complex(0,0)]       \n",
    "        sq=np.repeat(0.5,n-1)\n",
    "        clr=0\n",
    "        bl= True\n",
    "        for k in range(n):\n",
    "            if(mod(z[-1])>2):\n",
    "                z.append(z[k])\n",
    "                if(bl):\n",
    "                    bl=False\n",
    "                    clr=1-k/n;\n",
    "            else:\n",
    "                z.append(z[k]*z[k]+c)            \n",
    "        #colors = np.random.rand(n)#\n",
    "        colors = np.repeat(clr,n)\n",
    "        #if z[-1].real<1000:\n",
    "        #plt.scatter(np.array([q.real for q in z]), np.array([q.imag for q in z]),c=colors)#, sq, colors, alpha=0.5)\n",
    "        #plt.show()\n",
    "        for h in range(n):\n",
    "            plt.plot(z[h].real, z[h].imag, marker='o', ls='', c=float(colors[h]), markersize=5)"
   ]
  },
  {
   "cell_type": "markdown",
   "id": "94be5ed8",
   "metadata": {},
   "source": []
  },
  {
   "cell_type": "code",
   "execution_count": null,
   "id": "cbd706ec",
   "metadata": {},
   "outputs": [],
   "source": [
    "\"\"\"\"\"n=np.array(np.linalg.det(np.array(([P[1][1]-P[0][1],P[1][2]-P[0][2]],[P[2][1]-P[0][1],P[2][2]-P[0][2]]))) ,\n",
    "        -1*np.linalg.det(np.array(([P[1][0]-P[0][0],P[1][2]-P[0][2]],[P[2][0]-P[0][0],P[2][2]-P[0][2]]))) ,\n",
    "           np.linalg.det(np.array(([P[1][0]-P[0][0],P[1][1]-P[0][1]],[P[2][0]-P[0][0],P[2][1]-P[0][1]]))) )\"\"\"\""
   ]
  },
  {
   "cell_type": "code",
   "execution_count": null,
   "id": "067f2208",
   "metadata": {},
   "outputs": [],
   "source": []
  }
 ],
 "metadata": {
  "kernelspec": {
   "display_name": "Python 3 (ipykernel)",
   "language": "python",
   "name": "python3"
  },
  "language_info": {
   "codemirror_mode": {
    "name": "ipython",
    "version": 3
   },
   "file_extension": ".py",
   "mimetype": "text/x-python",
   "name": "python",
   "nbconvert_exporter": "python",
   "pygments_lexer": "ipython3",
   "version": "3.8.11"
  }
 },
 "nbformat": 4,
 "nbformat_minor": 5
}
